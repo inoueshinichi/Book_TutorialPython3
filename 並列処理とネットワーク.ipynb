{
 "cells": [
  {
   "cell_type": "code",
   "execution_count": 1,
   "metadata": {
    "scrolled": true
   },
   "outputs": [
    {
     "name": "stdout",
     "output_type": "stream",
     "text": [
      "Drying salad dish\n",
      "Drying bread dish\n",
      "Drying entree dish\n",
      "Drying dessert!!!! dish\n",
      "Washing salad dish\n",
      "Washing bread dish\n",
      "Washing entree dish\n",
      "Washing dessert!!!! dish\n"
     ]
    },
    {
     "name": "stderr",
     "output_type": "stream",
     "text": [
      "Process Process-1:\n",
      "Traceback (most recent call last):\n",
      "  File \"/Users/inoueshinichi/.pyenv/versions/anaconda3-5.0.1/lib/python3.6/multiprocessing/process.py\", line 258, in _bootstrap\n",
      "    self.run()\n",
      "  File \"/Users/inoueshinichi/.pyenv/versions/anaconda3-5.0.1/lib/python3.6/multiprocessing/process.py\", line 93, in run\n",
      "    self._target(*self._args, **self._kwargs)\n",
      "  File \"<ipython-input-1-ef8c99043680>\", line 15, in dryer\n",
      "    dish = input.get()\n",
      "  File \"/Users/inoueshinichi/.pyenv/versions/anaconda3-5.0.1/lib/python3.6/multiprocessing/queues.py\", line 94, in get\n",
      "    res = self._recv_bytes()\n",
      "  File \"/Users/inoueshinichi/.pyenv/versions/anaconda3-5.0.1/lib/python3.6/multiprocessing/connection.py\", line 216, in recv_bytes\n",
      "    buf = self._recv_bytes(maxlength)\n",
      "  File \"/Users/inoueshinichi/.pyenv/versions/anaconda3-5.0.1/lib/python3.6/multiprocessing/connection.py\", line 407, in _recv_bytes\n",
      "    buf = self._recv(4)\n",
      "  File \"/Users/inoueshinichi/.pyenv/versions/anaconda3-5.0.1/lib/python3.6/multiprocessing/connection.py\", line 379, in _recv\n",
      "    chunk = read(handle, remaining)\n",
      "KeyboardInterrupt\n"
     ]
    }
   ],
   "source": [
    "# キューによる並列処理制御\n",
    "# FIFO\n",
    "# ボトルネックが存在\n",
    "# キューはメッセージを送る. \n",
    "# 洗浄担当プロセス＋乾燥担当プロセス\n",
    "import multiprocessing as mp\n",
    "\n",
    "def washer(dishes, output):\n",
    "    for dish in dishes:\n",
    "        print('Washing', dish, 'dish')\n",
    "        output.put(dish)\n",
    "        \n",
    "def dryer(input):\n",
    "    while True:\n",
    "        dish = input.get()\n",
    "        print('Drying', dish, 'dish')\n",
    "        input.task_done()\n",
    "\n",
    "dish_queue = mp.JoinableQueue()\n",
    "dryer_proc = mp.Process(target=dryer, args=(dish_queue,))\n",
    "dryer_proc.daemon = True\n",
    "dryer_proc.start()\n",
    "\n",
    "dishes = ['salad', 'bread', 'entree', 'dessert!!!!']\n",
    "washer(dishes, dish_queue)\n",
    "dish_queue.join() # Washerはすべての皿が乾燥されたことを知ることができる"
   ]
  },
  {
   "cell_type": "code",
   "execution_count": 2,
   "metadata": {
    "scrolled": true
   },
   "outputs": [
    {
     "name": "stdout",
     "output_type": "stream",
     "text": [
      "Thread <_MainThread(MainThread, started 140736187483072)> says: I'm the main program\n",
      "\n",
      "Thread <Thread(Thread-4, started 123145389277184)> says: I'm function 0\n",
      "\n",
      "Thread <Thread(Thread-5, started 123145389277184)> says: I'm function 1\n",
      "\n",
      "Thread <Thread(Thread-6, started 123145389277184)> says: I'm function 2\n",
      "\n",
      "Thread <Thread(Thread-7, started 123145394532352)> says: I'm function 3\n",
      "\n"
     ]
    }
   ],
   "source": [
    "# スレッド\n",
    "import threading\n",
    "\n",
    "def do_this(what):\n",
    "    whoami(what)\n",
    "    \n",
    "def whoami(what):\n",
    "    print(\"Thread %s says: %s\\n\" % (threading.current_thread(), what))\n",
    "    \n",
    "whoami(\"I'm the main program\")\n",
    "for n in range(4):\n",
    "    p = threading.Thread(target=do_this, args=(\"I'm function %s\" % n,))\n",
    "    p.start()"
   ]
  },
  {
   "cell_type": "code",
   "execution_count": 3,
   "metadata": {},
   "outputs": [
    {
     "name": "stdout",
     "output_type": "stream",
     "text": [
      "Washing salad\n",
      "DryingWashing  saladbread\n",
      "\n",
      "Washing Dryingentree\n",
      " bread\n",
      "DryingWashing  dessert!entree\n",
      "\n",
      "Drying dessert!\n"
     ]
    }
   ],
   "source": [
    "# プロセスベースのwasher, dryer関数もスレッドで処理できる\n",
    "import threading, queue\n",
    "import time\n",
    "\n",
    "def washer(dishes, dish_queue):\n",
    "    for dish in dishes:\n",
    "        print('Washing', dish)\n",
    "        time.sleep(5)\n",
    "        dish_queue.put(dish)\n",
    "        \n",
    "def dryer(dish_queue):\n",
    "    while True:\n",
    "        dish = dish_queue.get()\n",
    "        print('Drying', dish)\n",
    "        time.sleep(10)\n",
    "        dish_queue.task_done()\n",
    "\n",
    "dish_queue = queue.Queue()\n",
    "for n in range(2):\n",
    "    dryer_thread = threading.Thread(target=dryer, args=(dish_queue,))\n",
    "    dryer_thread.start()\n",
    "    \n",
    "dishes = ['salad', 'bread', 'entree', 'dessert!']\n",
    "washer(dishes, dish_queue)\n",
    "dish_queue.join()\n",
    "\n"
   ]
  },
  {
   "cell_type": "code",
   "execution_count": 15,
   "metadata": {},
   "outputs": [
    {
     "name": "stdout",
     "output_type": "stream",
     "text": [
      "66.6.44.4\n",
      "216.58.197.211\n",
      "None\n"
     ]
    }
   ],
   "source": [
    "# イベント駆動型並列処理 gevent\n",
    "# 中央でイベントループを回して、イベントが発生したら個々のコルーチン(job)に処理を渡す\n",
    "# gevent.spawn():グリーンスレッド グリーンスレッドは通常のスレッドと違ってブロックしない\n",
    "import gevent\n",
    "from gevent import socket\n",
    "hosts = ['www.crappytaxidermy.com', 'www.walterpottertaxidermy.com', 'www.antique-taxidermy.com']\n",
    "jobs = [gevent.spawn(gevent.socket.gethostbyname, host) for host in hosts]\n",
    "gevent.joinall(jobs, timeout=5) # 派生させたすべてのジョブが終了するのを待つ\n",
    "for job in jobs:\n",
    "    print(job.value)"
   ]
  },
  {
   "cell_type": "code",
   "execution_count": 1,
   "metadata": {},
   "outputs": [
    {
     "data": {
      "text/plain": [
       "\"\\nfrom gevent import monkey\\nmonkey.patch_socket() # 標準モジュールのsoketにgevent版socketが挿入される, Pythonコードオンリーな使い方\\n# monkey.patch_all() # 対応する標準モジュールすべてを書き換える\\n\\nimport gevent\\nfrom gevent import monkey; monkey.patch_all()\\nhosts = ['www.crappytaxidermy.com', 'www.walterpottertaxidermy.com', 'www.antique-taxidermy.com']\\njobs = [gevent.spawn(gevent.socket.gethostbyname, host) for host in hosts]\\ngevent.joinall(jobs, timeout=5) # 派生させたすべてのジョブが終了するのを待つ\\nfor job in jobs:\\n    print(job.value)\\n\""
      ]
     },
     "execution_count": 1,
     "metadata": {},
     "output_type": "execute_result"
    }
   ],
   "source": [
    "# モンキーパッチング関数を使う\n",
    "# これはgevent専用のモジュールではなく、soketなどの標準モジュールにグリーンスレッドを対応させて、それを使う\n",
    "\"\"\"\n",
    "from gevent import monkey\n",
    "monkey.patch_socket() # 標準モジュールのsoketにgevent版socketが挿入される, Pythonコードオンリーな使い方\n",
    "# monkey.patch_all() # 対応する標準モジュールすべてを書き換える\n",
    "\n",
    "import gevent\n",
    "from gevent import monkey; monkey.patch_all()\n",
    "hosts = ['www.crappytaxidermy.com', 'www.walterpottertaxidermy.com', 'www.antique-taxidermy.com']\n",
    "jobs = [gevent.spawn(gevent.socket.gethostbyname, host) for host in hosts]\n",
    "gevent.joinall(jobs, timeout=5) # 派生させたすべてのジョブが終了するのを待つ\n",
    "for job in jobs:\n",
    "    print(job.value)\n",
    "\"\"\"\n",
    "# geventは使用方法に注意。用法、用量を守ろう"
   ]
  },
  {
   "cell_type": "code",
   "execution_count": 6,
   "metadata": {
    "scrolled": true
   },
   "outputs": [
    {
     "ename": "ReactorNotRestartable",
     "evalue": "",
     "output_type": "error",
     "traceback": [
      "\u001b[0;31m---------------------------------------------------------------------------\u001b[0m",
      "\u001b[0;31mReactorNotRestartable\u001b[0m                     Traceback (most recent call last)",
      "\u001b[0;32m<ipython-input-6-f9aa5ad77e00>\u001b[0m in \u001b[0;36m<module>\u001b[0;34m()\u001b[0m\n\u001b[1;32m     21\u001b[0m \u001b[0;34m\u001b[0m\u001b[0m\n\u001b[1;32m     22\u001b[0m \u001b[0mreactor\u001b[0m\u001b[0;34m.\u001b[0m\u001b[0mlistenTCP\u001b[0m\u001b[0;34m(\u001b[0m\u001b[0;36m8000\u001b[0m\u001b[0;34m,\u001b[0m \u001b[0mKnockFactory\u001b[0m\u001b[0;34m(\u001b[0m\u001b[0;34m)\u001b[0m\u001b[0;34m)\u001b[0m\u001b[0;34m\u001b[0m\u001b[0m\n\u001b[0;32m---> 23\u001b[0;31m \u001b[0mreactor\u001b[0m\u001b[0;34m.\u001b[0m\u001b[0mrun\u001b[0m\u001b[0;34m(\u001b[0m\u001b[0;34m)\u001b[0m\u001b[0;34m\u001b[0m\u001b[0m\n\u001b[0m",
      "\u001b[0;32m~/.pyenv/versions/anaconda3-5.0.1/lib/python3.6/site-packages/twisted/internet/base.py\u001b[0m in \u001b[0;36mrun\u001b[0;34m(self, installSignalHandlers)\u001b[0m\n\u001b[1;32m   1240\u001b[0m \u001b[0;34m\u001b[0m\u001b[0m\n\u001b[1;32m   1241\u001b[0m     \u001b[0;32mdef\u001b[0m \u001b[0mrun\u001b[0m\u001b[0;34m(\u001b[0m\u001b[0mself\u001b[0m\u001b[0;34m,\u001b[0m \u001b[0minstallSignalHandlers\u001b[0m\u001b[0;34m=\u001b[0m\u001b[0;32mTrue\u001b[0m\u001b[0;34m)\u001b[0m\u001b[0;34m:\u001b[0m\u001b[0;34m\u001b[0m\u001b[0m\n\u001b[0;32m-> 1242\u001b[0;31m         \u001b[0mself\u001b[0m\u001b[0;34m.\u001b[0m\u001b[0mstartRunning\u001b[0m\u001b[0;34m(\u001b[0m\u001b[0minstallSignalHandlers\u001b[0m\u001b[0;34m=\u001b[0m\u001b[0minstallSignalHandlers\u001b[0m\u001b[0;34m)\u001b[0m\u001b[0;34m\u001b[0m\u001b[0m\n\u001b[0m\u001b[1;32m   1243\u001b[0m         \u001b[0mself\u001b[0m\u001b[0;34m.\u001b[0m\u001b[0mmainLoop\u001b[0m\u001b[0;34m(\u001b[0m\u001b[0;34m)\u001b[0m\u001b[0;34m\u001b[0m\u001b[0m\n\u001b[1;32m   1244\u001b[0m \u001b[0;34m\u001b[0m\u001b[0m\n",
      "\u001b[0;32m~/.pyenv/versions/anaconda3-5.0.1/lib/python3.6/site-packages/twisted/internet/base.py\u001b[0m in \u001b[0;36mstartRunning\u001b[0;34m(self, installSignalHandlers)\u001b[0m\n\u001b[1;32m   1220\u001b[0m         \"\"\"\n\u001b[1;32m   1221\u001b[0m         \u001b[0mself\u001b[0m\u001b[0;34m.\u001b[0m\u001b[0m_installSignalHandlers\u001b[0m \u001b[0;34m=\u001b[0m \u001b[0minstallSignalHandlers\u001b[0m\u001b[0;34m\u001b[0m\u001b[0m\n\u001b[0;32m-> 1222\u001b[0;31m         \u001b[0mReactorBase\u001b[0m\u001b[0;34m.\u001b[0m\u001b[0mstartRunning\u001b[0m\u001b[0;34m(\u001b[0m\u001b[0mself\u001b[0m\u001b[0;34m)\u001b[0m\u001b[0;34m\u001b[0m\u001b[0m\n\u001b[0m\u001b[1;32m   1223\u001b[0m \u001b[0;34m\u001b[0m\u001b[0m\n\u001b[1;32m   1224\u001b[0m \u001b[0;34m\u001b[0m\u001b[0m\n",
      "\u001b[0;32m~/.pyenv/versions/anaconda3-5.0.1/lib/python3.6/site-packages/twisted/internet/base.py\u001b[0m in \u001b[0;36mstartRunning\u001b[0;34m(self)\u001b[0m\n\u001b[1;32m    728\u001b[0m             \u001b[0;32mraise\u001b[0m \u001b[0merror\u001b[0m\u001b[0;34m.\u001b[0m\u001b[0mReactorAlreadyRunning\u001b[0m\u001b[0;34m(\u001b[0m\u001b[0;34m)\u001b[0m\u001b[0;34m\u001b[0m\u001b[0m\n\u001b[1;32m    729\u001b[0m         \u001b[0;32mif\u001b[0m \u001b[0mself\u001b[0m\u001b[0;34m.\u001b[0m\u001b[0m_startedBefore\u001b[0m\u001b[0;34m:\u001b[0m\u001b[0;34m\u001b[0m\u001b[0m\n\u001b[0;32m--> 730\u001b[0;31m             \u001b[0;32mraise\u001b[0m \u001b[0merror\u001b[0m\u001b[0;34m.\u001b[0m\u001b[0mReactorNotRestartable\u001b[0m\u001b[0;34m(\u001b[0m\u001b[0;34m)\u001b[0m\u001b[0;34m\u001b[0m\u001b[0m\n\u001b[0m\u001b[1;32m    731\u001b[0m         \u001b[0mself\u001b[0m\u001b[0;34m.\u001b[0m\u001b[0m_started\u001b[0m \u001b[0;34m=\u001b[0m \u001b[0;32mTrue\u001b[0m\u001b[0;34m\u001b[0m\u001b[0m\n\u001b[1;32m    732\u001b[0m         \u001b[0mself\u001b[0m\u001b[0;34m.\u001b[0m\u001b[0m_stopped\u001b[0m \u001b[0;34m=\u001b[0m \u001b[0;32mFalse\u001b[0m\u001b[0;34m\u001b[0m\u001b[0m\n",
      "\u001b[0;31mReactorNotRestartable\u001b[0m: "
     ]
    }
   ],
   "source": [
    "# twisted 非同期のイベント駆動型ネットワーキングフレーム\n",
    "# イベントが発生したときに、事前に結び付けれらていた関数が呼びだされる。コールバック\n",
    "# TCP, UDP上の様々なインターネットプロトコルをサポートする大規模パッケージ\n",
    "\n",
    "# ノックサーバー\n",
    "from twisted.internet import protocol, reactor\n",
    "\n",
    "class Knock(protocol.Protocol):\n",
    "    def dataReceived(self, data):\n",
    "        print(\"Client:\", data)\n",
    "        if data.startswith(\"Knock knock\"):\n",
    "            response = \"Who's there ?\"\n",
    "        else:\n",
    "            response = data + \" who?\"\n",
    "        print(\"Server:\", response)\n",
    "        self.transport.write(response)\n",
    "        \n",
    "class KnockFactory(protocol.Factory):\n",
    "    def buildProtocol(self, addr):\n",
    "        return Knock()\n",
    "    \n",
    "reactor.listenTCP(8000, KnockFactory())\n",
    "reactor.run()"
   ]
  },
  {
   "cell_type": "code",
   "execution_count": 5,
   "metadata": {},
   "outputs": [
    {
     "ename": "ReactorNotRestartable",
     "evalue": "",
     "output_type": "error",
     "traceback": [
      "\u001b[0;31m---------------------------------------------------------------------------\u001b[0m",
      "\u001b[0;31mReactorNotRestartable\u001b[0m                     Traceback (most recent call last)",
      "\u001b[0;32m<ipython-input-5-53bf340244b0>\u001b[0m in \u001b[0;36m<module>\u001b[0;34m()\u001b[0m\n\u001b[1;32m     22\u001b[0m     \u001b[0mreactor\u001b[0m\u001b[0;34m.\u001b[0m\u001b[0mrun\u001b[0m\u001b[0;34m(\u001b[0m\u001b[0;34m)\u001b[0m\u001b[0;34m\u001b[0m\u001b[0m\n\u001b[1;32m     23\u001b[0m \u001b[0;34m\u001b[0m\u001b[0m\n\u001b[0;32m---> 24\u001b[0;31m \u001b[0mmain\u001b[0m\u001b[0;34m(\u001b[0m\u001b[0;34m)\u001b[0m\u001b[0;34m\u001b[0m\u001b[0m\n\u001b[0m",
      "\u001b[0;32m<ipython-input-5-53bf340244b0>\u001b[0m in \u001b[0;36mmain\u001b[0;34m()\u001b[0m\n\u001b[1;32m     20\u001b[0m     \u001b[0mf\u001b[0m \u001b[0;34m=\u001b[0m\u001b[0mKnockFactory\u001b[0m\u001b[0;34m(\u001b[0m\u001b[0;34m)\u001b[0m\u001b[0;34m\u001b[0m\u001b[0m\n\u001b[1;32m     21\u001b[0m     \u001b[0mreactor\u001b[0m\u001b[0;34m.\u001b[0m\u001b[0mconnectTCP\u001b[0m\u001b[0;34m(\u001b[0m\u001b[0;34m\"localhost\"\u001b[0m\u001b[0;34m,\u001b[0m \u001b[0;36m8000\u001b[0m\u001b[0;34m,\u001b[0m \u001b[0mf\u001b[0m\u001b[0;34m)\u001b[0m\u001b[0;34m\u001b[0m\u001b[0m\n\u001b[0;32m---> 22\u001b[0;31m     \u001b[0mreactor\u001b[0m\u001b[0;34m.\u001b[0m\u001b[0mrun\u001b[0m\u001b[0;34m(\u001b[0m\u001b[0;34m)\u001b[0m\u001b[0;34m\u001b[0m\u001b[0m\n\u001b[0m\u001b[1;32m     23\u001b[0m \u001b[0;34m\u001b[0m\u001b[0m\n\u001b[1;32m     24\u001b[0m \u001b[0mmain\u001b[0m\u001b[0;34m(\u001b[0m\u001b[0;34m)\u001b[0m\u001b[0;34m\u001b[0m\u001b[0m\n",
      "\u001b[0;32m~/.pyenv/versions/anaconda3-5.0.1/lib/python3.6/site-packages/twisted/internet/base.py\u001b[0m in \u001b[0;36mrun\u001b[0;34m(self, installSignalHandlers)\u001b[0m\n\u001b[1;32m   1240\u001b[0m \u001b[0;34m\u001b[0m\u001b[0m\n\u001b[1;32m   1241\u001b[0m     \u001b[0;32mdef\u001b[0m \u001b[0mrun\u001b[0m\u001b[0;34m(\u001b[0m\u001b[0mself\u001b[0m\u001b[0;34m,\u001b[0m \u001b[0minstallSignalHandlers\u001b[0m\u001b[0;34m=\u001b[0m\u001b[0;32mTrue\u001b[0m\u001b[0;34m)\u001b[0m\u001b[0;34m:\u001b[0m\u001b[0;34m\u001b[0m\u001b[0m\n\u001b[0;32m-> 1242\u001b[0;31m         \u001b[0mself\u001b[0m\u001b[0;34m.\u001b[0m\u001b[0mstartRunning\u001b[0m\u001b[0;34m(\u001b[0m\u001b[0minstallSignalHandlers\u001b[0m\u001b[0;34m=\u001b[0m\u001b[0minstallSignalHandlers\u001b[0m\u001b[0;34m)\u001b[0m\u001b[0;34m\u001b[0m\u001b[0m\n\u001b[0m\u001b[1;32m   1243\u001b[0m         \u001b[0mself\u001b[0m\u001b[0;34m.\u001b[0m\u001b[0mmainLoop\u001b[0m\u001b[0;34m(\u001b[0m\u001b[0;34m)\u001b[0m\u001b[0;34m\u001b[0m\u001b[0m\n\u001b[1;32m   1244\u001b[0m \u001b[0;34m\u001b[0m\u001b[0m\n",
      "\u001b[0;32m~/.pyenv/versions/anaconda3-5.0.1/lib/python3.6/site-packages/twisted/internet/base.py\u001b[0m in \u001b[0;36mstartRunning\u001b[0;34m(self, installSignalHandlers)\u001b[0m\n\u001b[1;32m   1220\u001b[0m         \"\"\"\n\u001b[1;32m   1221\u001b[0m         \u001b[0mself\u001b[0m\u001b[0;34m.\u001b[0m\u001b[0m_installSignalHandlers\u001b[0m \u001b[0;34m=\u001b[0m \u001b[0minstallSignalHandlers\u001b[0m\u001b[0;34m\u001b[0m\u001b[0m\n\u001b[0;32m-> 1222\u001b[0;31m         \u001b[0mReactorBase\u001b[0m\u001b[0;34m.\u001b[0m\u001b[0mstartRunning\u001b[0m\u001b[0;34m(\u001b[0m\u001b[0mself\u001b[0m\u001b[0;34m)\u001b[0m\u001b[0;34m\u001b[0m\u001b[0m\n\u001b[0m\u001b[1;32m   1223\u001b[0m \u001b[0;34m\u001b[0m\u001b[0m\n\u001b[1;32m   1224\u001b[0m \u001b[0;34m\u001b[0m\u001b[0m\n",
      "\u001b[0;32m~/.pyenv/versions/anaconda3-5.0.1/lib/python3.6/site-packages/twisted/internet/base.py\u001b[0m in \u001b[0;36mstartRunning\u001b[0;34m(self)\u001b[0m\n\u001b[1;32m    728\u001b[0m             \u001b[0;32mraise\u001b[0m \u001b[0merror\u001b[0m\u001b[0;34m.\u001b[0m\u001b[0mReactorAlreadyRunning\u001b[0m\u001b[0;34m(\u001b[0m\u001b[0;34m)\u001b[0m\u001b[0;34m\u001b[0m\u001b[0m\n\u001b[1;32m    729\u001b[0m         \u001b[0;32mif\u001b[0m \u001b[0mself\u001b[0m\u001b[0;34m.\u001b[0m\u001b[0m_startedBefore\u001b[0m\u001b[0;34m:\u001b[0m\u001b[0;34m\u001b[0m\u001b[0m\n\u001b[0;32m--> 730\u001b[0;31m             \u001b[0;32mraise\u001b[0m \u001b[0merror\u001b[0m\u001b[0;34m.\u001b[0m\u001b[0mReactorNotRestartable\u001b[0m\u001b[0;34m(\u001b[0m\u001b[0;34m)\u001b[0m\u001b[0;34m\u001b[0m\u001b[0m\n\u001b[0m\u001b[1;32m    731\u001b[0m         \u001b[0mself\u001b[0m\u001b[0;34m.\u001b[0m\u001b[0m_started\u001b[0m \u001b[0;34m=\u001b[0m \u001b[0;32mTrue\u001b[0m\u001b[0;34m\u001b[0m\u001b[0m\n\u001b[1;32m    732\u001b[0m         \u001b[0mself\u001b[0m\u001b[0;34m.\u001b[0m\u001b[0m_stopped\u001b[0m \u001b[0;34m=\u001b[0m \u001b[0;32mFalse\u001b[0m\u001b[0;34m\u001b[0m\u001b[0m\n",
      "\u001b[0;31mReactorNotRestartable\u001b[0m: "
     ]
    }
   ],
   "source": [
    "# ノッククライアント\n",
    "from twisted.internet import reactor, protocol\n",
    "\n",
    "class KnockClient(protocol.Protocol):\n",
    "    def connectionMade(self):\n",
    "        self.transport.write('Knock knock')\n",
    "        \n",
    "    def dataReceived(self, data):\n",
    "        if data.startswith(\"Who's there?\"):\n",
    "            response = \"Disappearing client\"\n",
    "            self.transport.write(response)\n",
    "        else:\n",
    "            self.transport.loseConnection()\n",
    "            reactor.stop()\n",
    "            \n",
    "class KnockFactory(protocol.ClientFactory):\n",
    "    protocol = KnockClient\n",
    "    \n",
    "def main():\n",
    "    f =KnockFactory()\n",
    "    reactor.connectTCP(\"localhost\", 8000, f)\n",
    "    reactor.run()\n",
    "    \n",
    "main()        "
   ]
  },
  {
   "cell_type": "code",
   "execution_count": 1,
   "metadata": {},
   "outputs": [
    {
     "data": {
      "text/plain": [
       "\"\\nimport redis\\nconn = redis.Redis()\\nprint('Washer is starting')\\ndishes = ['salad', 'bread', 'entree', 'dessert']\\nfor dish in dishes:\\n    msg = dish.encode('utf-8')\\n    conn.rpush('dishes', msg)\\n    print('Washed', dish)\\nconn.rpush('dishes', 'quit')\\nprint('Washer is done')\\n\""
      ]
     },
     "execution_count": 1,
     "metadata": {},
     "output_type": "execute_result"
    }
   ],
   "source": [
    "# Redisをキュー代わりにつかう\n",
    "\"\"\" redis_washer.py\n",
    "import redis\n",
    "conn = redis.Redis()\n",
    "print('Washer is starting')\n",
    "dishes = ['salad', 'bread', 'entree', 'dessert']\n",
    "for dish in dishes:\n",
    "    msg = dish.encode('utf-8')\n",
    "    conn.rpush('dishes', msg)\n",
    "    print('Washed', dish)\n",
    "conn.rpush('dishes', 'quit')\n",
    "print('Washer is done')\n",
    "\"\"\"\n"
   ]
  },
  {
   "cell_type": "code",
   "execution_count": 2,
   "metadata": {},
   "outputs": [
    {
     "data": {
      "text/plain": [
       "\" redis_dryer.py\\nimport redis\\nconn = redis.Redis()\\nprint('Dryer is starting')\\nwhile True:\\n    msg = conn.blpop('dishes') # キューリスト名'dishes'からデータをポップする\\n    if not msg:\\n        break\\n    val = msg[1].decode('utf-8')\\n    if val == 'quit':\\n        break\\n    print('Dried', val)\\nprint('Dishes are dried')\\n\""
      ]
     },
     "execution_count": 2,
     "metadata": {},
     "output_type": "execute_result"
    }
   ],
   "source": [
    "\"\"\" redis_dryer.py\n",
    "import redis\n",
    "conn = redis.Redis()\n",
    "print('Dryer is starting')\n",
    "while True:\n",
    "    msg = conn.blpop('dishes') # キューリスト名'dishes'からデータをポップする\n",
    "    if not msg:\n",
    "        break\n",
    "    val = msg[1].decode('utf-8')\n",
    "    if val == 'quit':\n",
    "        break\n",
    "    print('Dried', val)\n",
    "print('Dishes are dried')\n",
    "\"\"\""
   ]
  },
  {
   "cell_type": "code",
   "execution_count": 3,
   "metadata": {},
   "outputs": [
    {
     "data": {
      "text/plain": [
       "\"\\nimport redis\\nimport random\\n\\nconn = redis.Redis()\\ncats = ['siamese', 'persian', 'maine coon', 'norwegian forest']\\nhats = ['stovepipe', 'bowler', 'tam-o-shanter', 'fedora']\\nfor msg in range(10):\\n    cat = random.choice(cats)\\n    hat = random.choice(hats)\\n    print('Publish: % wears a %s' % (cat, hat))\\n    conn.publish(cat, hat)\\n\""
      ]
     },
     "execution_count": 3,
     "metadata": {},
     "output_type": "execute_result"
    }
   ],
   "source": [
    "# パブリッシュ/サブスクライバ　モデル\n",
    "# キューではなく、ブロードキャストである\n",
    "# Redisを使って、パブサブ\n",
    "\"\"\" redis_pub.py\n",
    "import redis\n",
    "import random\n",
    "\n",
    "conn = redis.Redis()\n",
    "cats = ['siamese', 'persian', 'maine coon', 'norwegian forest']\n",
    "hats = ['stovepipe', 'bowler', 'tam-o-shanter', 'fedora']\n",
    "for msg in range(10):\n",
    "    cat = random.choice(cats)\n",
    "    hat = random.choice(hats)\n",
    "    print('Publish: %s wears a %s' % (cat, hat))\n",
    "    conn.publish(cat, hat)\n",
    "\"\"\""
   ]
  },
  {
   "cell_type": "code",
   "execution_count": 4,
   "metadata": {},
   "outputs": [
    {
     "data": {
      "text/plain": [
       "\"redis_sub.py\\nimport redis\\nconn = redis.Redis()\\n\\ntopic = ['maine coon', 'persian']\\nsub = conn.pubsub()\\nsub.subscribe(topic)\\nfor msg in sub.listen():\\n    if msg['type'] == 'message':\\n        cat = msg['channel']\\n        hat = msg['data']\\n        print('Subscribe: %s wears a %s' % (cat, hat))\\n\""
      ]
     },
     "execution_count": 4,
     "metadata": {},
     "output_type": "execute_result"
    }
   ],
   "source": [
    "\"\"\"redis_sub.py\n",
    "import redis\n",
    "conn = redis.Redis()\n",
    "\n",
    "topic = ['maine coon', 'persian']\n",
    "sub = conn.pubsub()\n",
    "sub.subscribe(topic)\n",
    "for msg in sub.listen():\n",
    "    if msg['type'] == 'message':\n",
    "        cat = msg['channel']\n",
    "        hat = msg['data']\n",
    "        print('Subscribe: %s wears a %s' % (cat, hat))\n",
    "\"\"\""
   ]
  },
  {
   "cell_type": "code",
   "execution_count": 5,
   "metadata": {},
   "outputs": [
    {
     "data": {
      "text/plain": [
       "\" zmq_pub.py\\nimport zmq\\nimport random\\nimport time\\nhost = '*'\\nport = 6789\\nctx = zmq.Context()\\npub = ctx.socket(zmq.PUB)\\npub.bind('tcp://%s:%s' % (host, port))\\ncats = ['siamese', 'persian', 'maine coon', 'norwegian forest']\\nhats = ['stovepipe', 'bowler', 'tam-o-shanter', 'fedora']\\ntime.sleep(1)\\nfor msg in range(10):\\n    cat = random.choice(cats)\\n    cat_bytes = cat.encode('utf-8')\\n    hat = random.choice(hats)\\n    hat_bytes = hat.encode('utf-8')\\n    print('Publish: %s wears a %s' % (cat, hat))\\n    pub.send_multipart([cat_bytes, hat_bytes])\\n\""
      ]
     },
     "execution_count": 5,
     "metadata": {},
     "output_type": "execute_result"
    }
   ],
   "source": [
    "# ZeroMQによるパブサブ\n",
    "\"\"\" zmq_pub.py\n",
    "import zmq\n",
    "import random\n",
    "import time\n",
    "host = '*'\n",
    "port = 6789\n",
    "ctx = zmq.Context()\n",
    "pub = ctx.socket(zmq.PUB)\n",
    "pub.bind('tcp://%s:%s' % (host, port))\n",
    "cats = ['siamese', 'persian', 'maine coon', 'norwegian forest']\n",
    "hats = ['stovepipe', 'bowler', 'tam-o-shanter', 'fedora']\n",
    "time.sleep(1)\n",
    "for msg in range(10):\n",
    "    cat = random.choice(cats)\n",
    "    cat_bytes = cat.encode('utf-8')\n",
    "    hat = random.choice(hats)\n",
    "    hat_bytes = hat.encode('utf-8')\n",
    "    print('Publish: %s wears a %s' % (cat, hat))\n",
    "    pub.send_multipart([cat_bytes, hat_bytes])\n",
    "\"\"\""
   ]
  },
  {
   "cell_type": "code",
   "execution_count": 6,
   "metadata": {},
   "outputs": [
    {
     "data": {
      "text/plain": [
       "\" zmq_sub.py\\nimport zmq\\nhost = '127.0.0.1'\\nport = 6789\\nctx = zmq.Context()\\nsub = ctx.socket(zmq.SUB)\\nsub.connect('tcp://%s:%s' % (host, port))\\ntopics = ['maine coon', 'persian']\\nfor topic in topics:\\n    sub.setsockopt(zmq.SUBSCRIBE, topic.encode('utf-8'))\\nwhile True:\\n    cat_bytes, hat_bytes = sub.recv_multipart()\\n    cat = cat_bytes.decode('utf-8')\\n    hat = hat_bytes.decode('utf-8')\\n    print('Subscribe: %s wears a %s' % (cat, hat))\""
      ]
     },
     "execution_count": 6,
     "metadata": {},
     "output_type": "execute_result"
    }
   ],
   "source": [
    "\"\"\" zmq_sub.py\n",
    "import zmq\n",
    "host = '127.0.0.1'\n",
    "port = 6789\n",
    "ctx = zmq.Context()\n",
    "sub = ctx.socket(zmq.SUB)\n",
    "sub.connect('tcp://%s:%s' % (host, port))\n",
    "topics = ['maine coon', 'persian']\n",
    "for topic in topics:\n",
    "    sub.setsockopt(zmq.SUBSCRIBE, topic.encode('utf-8'))\n",
    "while True:\n",
    "    cat_bytes, hat_bytes = sub.recv_multipart()\n",
    "    cat = cat_bytes.decode('utf-8')\n",
    "    hat = hat_bytes.decode('utf-8')\n",
    "    print('Subscribe: %s wears a %s' % (cat, hat))\"\"\""
   ]
  },
  {
   "cell_type": "code",
   "execution_count": 9,
   "metadata": {},
   "outputs": [
    {
     "data": {
      "text/plain": [
       "\"\\nfrom datetime import datetime\\nimport socket\\n\\nserver_address = ('localhost', 6789)\\nmax_size = 4096\\n\\nprint('Starting the server at', datetime.now())\\nprint('Waiting for a client to call.')\\nserver = socket.socket(socket.AF_INET, socket.SOCK_DGRAM)\\nserver.bind(server_address)\\n\\ndata, client = server.recvfrom(max_size)\\n\\nprint('At', datetime.now(), client, 'said', data)\\nserver.sendto(b'Are you talking to me?', client)\\nserver.close()\\n\""
      ]
     },
     "execution_count": 9,
     "metadata": {},
     "output_type": "execute_result"
    }
   ],
   "source": [
    "# サーバー/クライアント\n",
    "# UDP\n",
    "# udp_server.py\n",
    "\"\"\"\n",
    "from datetime import datetime\n",
    "import socket\n",
    "\n",
    "server_address = ('localhost', 6789)\n",
    "max_size = 4096\n",
    "\n",
    "print('Starting the server at', datetime.now())\n",
    "print('Waiting for a client to call.')\n",
    "server = socket.socket(socket.AF_INET, socket.SOCK_DGRAM)\n",
    "server.bind(server_address)\n",
    "\n",
    "data, client = server.recvfrom(max_size)\n",
    "\n",
    "print('At', datetime.now(), client, 'said', data)\n",
    "server.sendto(b'Are you talking to me?', client)\n",
    "server.close()\n",
    "\"\"\""
   ]
  },
  {
   "cell_type": "code",
   "execution_count": 10,
   "metadata": {},
   "outputs": [
    {
     "data": {
      "text/plain": [
       "\"\\nimport socket\\nfrom datetime import datetime\\n\\nserver_address = ('localhost', 6789)\\nmax_size = 4096\\n\\nprint('Starting the client at', datetime.now())\\nclient = socket.socket(socket.AF_INET, socket.SOCK_DGRAM)\\nclient.sendto(b'Hey!', server_address)\\ndata, server = client.recvfrom(max_size)\\nprint('At', datetime.now(), server, 'said', data)\\nclient.close()\\n\""
      ]
     },
     "execution_count": 10,
     "metadata": {},
     "output_type": "execute_result"
    }
   ],
   "source": [
    "# udp_client.py\n",
    "\"\"\"\n",
    "import socket\n",
    "from datetime import datetime\n",
    "\n",
    "server_address = ('localhost', 6789)\n",
    "max_size = 4096\n",
    "\n",
    "print('Starting the client at', datetime.now())\n",
    "client = socket.socket(socket.AF_INET, socket.SOCK_DGRAM)\n",
    "client.sendto(b'Hey!', server_address)\n",
    "data, server = client.recvfrom(max_size)\n",
    "print('At', datetime.now(), server, 'said', data)\n",
    "client.close()\n",
    "\"\"\""
   ]
  },
  {
   "cell_type": "code",
   "execution_count": 11,
   "metadata": {},
   "outputs": [
    {
     "data": {
      "text/plain": [
       "\"\\nimport socket\\nfrom datetime import datetime\\n\\naddress = ('localhost', 7000)\\nmax_size = 1000\\n\\nprint('Starting the client at', datetime.now())\\nclient = socket.socket(socket.AF_INET, socket.SOCK_STREAM)\\nclient.connect(address)\\nclient.sendall(b'Hey!')\\ndata = client.recv(max_size)\\nprint('At', datetime.now(), 'someone replied', data)\\nclient.close()\\n\""
      ]
     },
     "execution_count": 11,
     "metadata": {},
     "output_type": "execute_result"
    }
   ],
   "source": [
    "# TCP\n",
    "\"\"\" tcp_client.py\n",
    "import socket\n",
    "from datetime import datetime\n",
    "\n",
    "address = ('localhost', 7000)\n",
    "max_size = 1000\n",
    "\n",
    "print('Starting the client at', datetime.now())\n",
    "client = socket.socket(socket.AF_INET, socket.SOCK_STREAM)\n",
    "client.connect(address)\n",
    "client.sendall(b'Hey!')\n",
    "data = client.recv(max_size)\n",
    "print('At', datetime.now(), 'someone replied', data)\n",
    "client.close()\n",
    "\"\"\""
   ]
  },
  {
   "cell_type": "code",
   "execution_count": 12,
   "metadata": {},
   "outputs": [
    {
     "data": {
      "text/plain": [
       "\" tcp_server.py\\nfrom datetime import datetime\\nimport socket\\n\\naddress = ('localhost', 7000)\\nmax_size = 1000\\n\\nprint('Starting the server at', datetime.now())\\nprint('Waiting for a client to call.')\\nserver = socket.socket(socket.AF_INET, socket.SOCK_STREAM)\\nserver.bind(server_address)\\nserver.listen(5)\\n\\nclient, addr = server.accept()\\ndata = client.recv(max_size)\\n\\nprint('At', datetime.now(), client, 'said', data)\\nclient.sendall(b'Are you talking to me?')\\nclient.close()\\nserver.close()\\n\""
      ]
     },
     "execution_count": 12,
     "metadata": {},
     "output_type": "execute_result"
    }
   ],
   "source": [
    "# TCP\n",
    "\"\"\" tcp_server.py\n",
    "from datetime import datetime\n",
    "import socket\n",
    "\n",
    "address = ('localhost', 7000)\n",
    "max_size = 1000\n",
    "\n",
    "print('Starting the server at', datetime.now())\n",
    "print('Waiting for a client to call.')\n",
    "server = socket.socket(socket.AF_INET, socket.SOCK_STREAM)\n",
    "server.bind(server_address)\n",
    "server.listen(5)\n",
    "\n",
    "client, addr = server.accept()\n",
    "data = client.recv(max_size)\n",
    "\n",
    "print('At', datetime.now(), client, 'said', data)\n",
    "client.sendall(b'Are you talking to me?')\n",
    "client.close()\n",
    "server.close()\n",
    "\"\"\""
   ]
  },
  {
   "cell_type": "code",
   "execution_count": null,
   "metadata": {
    "collapsed": true
   },
   "outputs": [],
   "source": [
    "# ZeroMQ 強化版ソケット\n",
    "# 標準のsocketがやってほしかったことをやってくれる\n"
   ]
  }
 ],
 "metadata": {
  "kernelspec": {
   "display_name": "Python 3",
   "language": "python",
   "name": "python3"
  },
  "language_info": {
   "codemirror_mode": {
    "name": "ipython",
    "version": 3
   },
   "file_extension": ".py",
   "mimetype": "text/x-python",
   "name": "python",
   "nbconvert_exporter": "python",
   "pygments_lexer": "ipython3",
   "version": "3.6.4"
  }
 },
 "nbformat": 4,
 "nbformat_minor": 2
}
