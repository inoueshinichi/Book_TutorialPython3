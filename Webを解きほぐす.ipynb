{
 "cells": [
  {
   "cell_type": "code",
   "execution_count": 1,
   "metadata": {
    "collapsed": true
   },
   "outputs": [],
   "source": [
    "# telnetによる任意のサーバーの任意のポートに接続\n",
    "# telnet www.google.com 80"
   ]
  },
  {
   "cell_type": "code",
   "execution_count": 2,
   "metadata": {
    "collapsed": true
   },
   "outputs": [],
   "source": [
    "# pythonのhttp:\n",
    "# clientは、クライアントサイドの処理を行う\n",
    "# serverはPythonによるウェブサーバー開発を助ける\n",
    "# cookiesとcookiejarは、複数のサイトアクセスにまたがって必要な情報を保存するクッキーを管理する\n",
    "# urllibはhttpの上で実行される\n",
    "# requestはクライアントの要求を処理する\n",
    "# responseはサーバーの応答を処理する\n",
    "# parseはURLを部品に切り分ける"
   ]
  },
  {
   "cell_type": "code",
   "execution_count": 3,
   "metadata": {},
   "outputs": [
    {
     "name": "stdout",
     "output_type": "stream",
     "text": [
      "<http.client.HTTPResponse object at 0x10d8ceeb8>\n"
     ]
    }
   ],
   "source": [
    "import urllib.request as ur\n",
    "url = 'https://raw.githubusercontent.com/koki0702/introducing-python/master/dummy_api/fortune_cookie_random1.txt'\n",
    "conn = ur.urlopen(url)\n",
    "print(conn)"
   ]
  },
  {
   "cell_type": "code",
   "execution_count": 4,
   "metadata": {},
   "outputs": [
    {
     "name": "stdout",
     "output_type": "stream",
     "text": [
      "b'You will be surprised by a loud noise.\\\\r\\\\n\\\\n[codehappy] http://iheartquotes.com/fortune/show/20447\\n'\n"
     ]
    }
   ],
   "source": [
    "# connはいくつかのメソッドをもつHTTPResponseオブジェクト\n",
    "data = conn.read()\n",
    "print(data)"
   ]
  },
  {
   "cell_type": "code",
   "execution_count": 5,
   "metadata": {},
   "outputs": [
    {
     "name": "stdout",
     "output_type": "stream",
     "text": [
      "200\n"
     ]
    }
   ],
   "source": [
    "# 応答の中でも特に重要なのはHTTPステータコード\n",
    "print(conn.status)"
   ]
  },
  {
   "cell_type": "code",
   "execution_count": 6,
   "metadata": {
    "collapsed": true
   },
   "outputs": [],
   "source": [
    "# HTTPステータコード\n",
    "# 1xx (情報)\n",
    "# サーバーは要求を受け取ったが、クライアントに対して知らせるべき追加情報がある\n",
    "# 2xx (成功)\n",
    "# 要求は正しく機能した。200以外の成功コードには、追加情報が含まれている\n",
    "# 3xx (リダイレクト)\n",
    "# リソースが移動しているので、応答はクライアントに対して新しいURLを返す\n",
    "# 4xx (クライアントエラー)\n",
    "# クライアントサイドに問題がある。有名な404(見つからない)などがある\n",
    "# 500 (サーバーエラー)\n",
    "# 500は汎用のエラーコード。502(不正なゲートウェイ)はウェブサーバーとバックエンドアプリケーションサーバーの間の\n",
    "# 接続に問題があったときに返される。"
   ]
  },
  {
   "cell_type": "code",
   "execution_count": 7,
   "metadata": {},
   "outputs": [
    {
     "name": "stdout",
     "output_type": "stream",
     "text": [
      "text/plain; charset=utf-8\n"
     ]
    }
   ],
   "source": [
    "# ウェブサーバーは、好みの形式でデータを送り返すことができる。通常はHTML, CSS, JavaScriptなどだが\n",
    "# プレーンテキストもできる\n",
    "# データ形式は、HTTP応答ヘッダーのContent-Typeで指定されている\n",
    "print(conn.getheader('Content-Type'))"
   ]
  },
  {
   "cell_type": "code",
   "execution_count": 8,
   "metadata": {},
   "outputs": [
    {
     "name": "stdout",
     "output_type": "stream",
     "text": [
      "Content-Security-Policy +++ default-src 'none'; style-src 'unsafe-inline'; sandbox\n",
      "Strict-Transport-Security +++ max-age=31536000\n",
      "X-Content-Type-Options +++ nosniff\n",
      "X-Frame-Options +++ deny\n",
      "X-XSS-Protection +++ 1; mode=block\n",
      "ETag +++ \"eea0cb5830ed402a56a2ac014699cc3fb9478f36\"\n",
      "Content-Type +++ text/plain; charset=utf-8\n",
      "Cache-Control +++ max-age=300\n",
      "X-Geo-Block-List +++ \n",
      "X-GitHub-Request-Id +++ E86E:C297:884016:8EE9B4:5A6DBA85\n",
      "Content-Length +++ 99\n",
      "Accept-Ranges +++ bytes\n",
      "Date +++ Sun, 28 Jan 2018 11:56:53 GMT\n",
      "Via +++ 1.1 varnish\n",
      "Connection +++ close\n",
      "X-Served-By +++ cache-itm18827-ITM\n",
      "X-Cache +++ MISS\n",
      "X-Cache-Hits +++ 0\n",
      "X-Timer +++ S1517140614.723668,VS0,VE153\n",
      "Vary +++ Authorization,Accept-Encoding\n",
      "Access-Control-Allow-Origin +++ *\n",
      "X-Fastly-Request-ID +++ 1a3731fd3f3b20957dd4b25844a150a442fd0eb6\n",
      "Expires +++ Sun, 28 Jan 2018 12:01:53 GMT\n",
      "Source-Age +++ 0\n"
     ]
    }
   ],
   "source": [
    "# text/plainはMIMEタイプ, HTMLのMIMEタイプはtext/html\n",
    "# 外は?\n",
    "for key, value in conn.getheaders():\n",
    "    print(key, \"+++\", value)"
   ]
  },
  {
   "cell_type": "code",
   "execution_count": 9,
   "metadata": {},
   "outputs": [
    {
     "data": {
      "text/plain": [
       "<Response [200]>"
      ]
     },
     "execution_count": 9,
     "metadata": {},
     "output_type": "execute_result"
    }
   ],
   "source": [
    "# サード・パーティ製のrequestsによるWebの基礎\n",
    "import requests\n",
    "url = 'https://raw.githubusercontent.com/koki0702/\\\n",
    "introducing-python/master/dummy_api/fortune_cookie_random2.txt'\n",
    "resp = requests.get(url)\n",
    "resp"
   ]
  },
  {
   "cell_type": "code",
   "execution_count": 10,
   "metadata": {},
   "outputs": [
    {
     "name": "stdout",
     "output_type": "stream",
     "text": [
      "I know that there are people who do not love their fellow man, and I people like that!\n",
      "    -- Tom Lehrer, Satirist and Professor\n",
      "    [codehappy] http://iheartquotes.com/fortune/show/21465\n",
      "\n"
     ]
    }
   ],
   "source": [
    "print(resp.text)"
   ]
  },
  {
   "cell_type": "code",
   "execution_count": 11,
   "metadata": {
    "collapsed": true
   },
   "outputs": [],
   "source": [
    "# ウェブサーバーのフレームワークには以下の様な機能がある\n",
    "# ルーティング（URLを解析してサーバー関数呼び出しを行う）\n",
    "# テンプレート（動的に情報を組み込めるHTMLファイル）\n",
    "# デバック"
   ]
  },
  {
   "cell_type": "code",
   "execution_count": 12,
   "metadata": {
    "collapsed": true
   },
   "outputs": [],
   "source": [
    "# Pythonによるもっとも単純なウェブサーバー\n",
    "# python -m http.server"
   ]
  },
  {
   "cell_type": "code",
   "execution_count": 13,
   "metadata": {},
   "outputs": [
    {
     "name": "stderr",
     "output_type": "stream",
     "text": [
      "Bottle v0.12.13 server starting up (using WSGIRefServer())...\n",
      "Listening on http://localhost:9999/\n",
      "Hit Ctrl-C to quit.\n",
      "\n"
     ]
    }
   ],
   "source": [
    "# フレームワーク\n",
    "# Bottle\n",
    "from bottle import route, run\n",
    "\n",
    "@route('/')\n",
    "def home():\n",
    "    return \"It isn't fancy, but it's my home page.\"\n",
    "\n",
    "run(host='localhost', port=9999)"
   ]
  },
  {
   "cell_type": "code",
   "execution_count": 15,
   "metadata": {},
   "outputs": [
    {
     "name": "stderr",
     "output_type": "stream",
     "text": [
      "Bottle v0.12.13 server starting up (using WSGIRefServer())...\n",
      "Listening on http://localhost:9999/\n",
      "Hit Ctrl-C to quit.\n",
      "\n"
     ]
    }
   ],
   "source": [
    "# bottle2.py\n",
    "from bottle import route, run, static_file\n",
    "\n",
    "@route('/')\n",
    "def main():\n",
    "    return static_file('index.html', root='.')\n",
    "\n",
    "run(host='localhost', port=9999)"
   ]
  },
  {
   "cell_type": "code",
   "execution_count": 25,
   "metadata": {},
   "outputs": [
    {
     "name": "stderr",
     "output_type": "stream",
     "text": [
      "Bottle v0.12.13 server starting up (using WSGIRefServer())...\n",
      "Listening on http://localhost:9999/\n",
      "Hit Ctrl-C to quit.\n",
      "\n"
     ]
    }
   ],
   "source": [
    "# bottle3.py\n",
    "from bottle import route, run, static_file\n",
    "\n",
    "@route('/')\n",
    "def home():\n",
    "    return static_file('index.html', root='.')\n",
    "\n",
    "@route('/echo/<thing>')\n",
    "def echo(thing):\n",
    "    return (\"Say hello to my little friend: %s!\" % thing)\n",
    "\n",
    "run(host='localhost', port=9999)"
   ]
  },
  {
   "cell_type": "code",
   "execution_count": 26,
   "metadata": {},
   "outputs": [
    {
     "ename": "ConnectionError",
     "evalue": "HTTPConnectionPool(host='localhost', port=9999): Max retries exceeded with url: /echo/Mothra (Caused by NewConnectionError('<urllib3.connection.HTTPConnection object at 0x108cc22b0>: Failed to establish a new connection: [Errno 61] Connection refused',))",
     "output_type": "error",
     "traceback": [
      "\u001b[0;31m---------------------------------------------------------------------------\u001b[0m",
      "\u001b[0;31mConnectionRefusedError\u001b[0m                    Traceback (most recent call last)",
      "\u001b[0;32m~/.pyenv/versions/anaconda3-5.0.1/lib/python3.6/site-packages/urllib3/connection.py\u001b[0m in \u001b[0;36m_new_conn\u001b[0;34m(self)\u001b[0m\n\u001b[1;32m    140\u001b[0m             conn = connection.create_connection(\n\u001b[0;32m--> 141\u001b[0;31m                 (self.host, self.port), self.timeout, **extra_kw)\n\u001b[0m\u001b[1;32m    142\u001b[0m \u001b[0;34m\u001b[0m\u001b[0m\n",
      "\u001b[0;32m~/.pyenv/versions/anaconda3-5.0.1/lib/python3.6/site-packages/urllib3/util/connection.py\u001b[0m in \u001b[0;36mcreate_connection\u001b[0;34m(address, timeout, source_address, socket_options)\u001b[0m\n\u001b[1;32m     82\u001b[0m     \u001b[0;32mif\u001b[0m \u001b[0merr\u001b[0m \u001b[0;32mis\u001b[0m \u001b[0;32mnot\u001b[0m \u001b[0;32mNone\u001b[0m\u001b[0;34m:\u001b[0m\u001b[0;34m\u001b[0m\u001b[0m\n\u001b[0;32m---> 83\u001b[0;31m         \u001b[0;32mraise\u001b[0m \u001b[0merr\u001b[0m\u001b[0;34m\u001b[0m\u001b[0m\n\u001b[0m\u001b[1;32m     84\u001b[0m \u001b[0;34m\u001b[0m\u001b[0m\n",
      "\u001b[0;32m~/.pyenv/versions/anaconda3-5.0.1/lib/python3.6/site-packages/urllib3/util/connection.py\u001b[0m in \u001b[0;36mcreate_connection\u001b[0;34m(address, timeout, source_address, socket_options)\u001b[0m\n\u001b[1;32m     72\u001b[0m                 \u001b[0msock\u001b[0m\u001b[0;34m.\u001b[0m\u001b[0mbind\u001b[0m\u001b[0;34m(\u001b[0m\u001b[0msource_address\u001b[0m\u001b[0;34m)\u001b[0m\u001b[0;34m\u001b[0m\u001b[0m\n\u001b[0;32m---> 73\u001b[0;31m             \u001b[0msock\u001b[0m\u001b[0;34m.\u001b[0m\u001b[0mconnect\u001b[0m\u001b[0;34m(\u001b[0m\u001b[0msa\u001b[0m\u001b[0;34m)\u001b[0m\u001b[0;34m\u001b[0m\u001b[0m\n\u001b[0m\u001b[1;32m     74\u001b[0m             \u001b[0;32mreturn\u001b[0m \u001b[0msock\u001b[0m\u001b[0;34m\u001b[0m\u001b[0m\n",
      "\u001b[0;31mConnectionRefusedError\u001b[0m: [Errno 61] Connection refused",
      "\nDuring handling of the above exception, another exception occurred:\n",
      "\u001b[0;31mNewConnectionError\u001b[0m                        Traceback (most recent call last)",
      "\u001b[0;32m~/.pyenv/versions/anaconda3-5.0.1/lib/python3.6/site-packages/urllib3/connectionpool.py\u001b[0m in \u001b[0;36murlopen\u001b[0;34m(self, method, url, body, headers, retries, redirect, assert_same_host, timeout, pool_timeout, release_conn, chunked, body_pos, **response_kw)\u001b[0m\n\u001b[1;32m    600\u001b[0m                                                   \u001b[0mbody\u001b[0m\u001b[0;34m=\u001b[0m\u001b[0mbody\u001b[0m\u001b[0;34m,\u001b[0m \u001b[0mheaders\u001b[0m\u001b[0;34m=\u001b[0m\u001b[0mheaders\u001b[0m\u001b[0;34m,\u001b[0m\u001b[0;34m\u001b[0m\u001b[0m\n\u001b[0;32m--> 601\u001b[0;31m                                                   chunked=chunked)\n\u001b[0m\u001b[1;32m    602\u001b[0m \u001b[0;34m\u001b[0m\u001b[0m\n",
      "\u001b[0;32m~/.pyenv/versions/anaconda3-5.0.1/lib/python3.6/site-packages/urllib3/connectionpool.py\u001b[0m in \u001b[0;36m_make_request\u001b[0;34m(self, conn, method, url, timeout, chunked, **httplib_request_kw)\u001b[0m\n\u001b[1;32m    356\u001b[0m         \u001b[0;32melse\u001b[0m\u001b[0;34m:\u001b[0m\u001b[0;34m\u001b[0m\u001b[0m\n\u001b[0;32m--> 357\u001b[0;31m             \u001b[0mconn\u001b[0m\u001b[0;34m.\u001b[0m\u001b[0mrequest\u001b[0m\u001b[0;34m(\u001b[0m\u001b[0mmethod\u001b[0m\u001b[0;34m,\u001b[0m \u001b[0murl\u001b[0m\u001b[0;34m,\u001b[0m \u001b[0;34m**\u001b[0m\u001b[0mhttplib_request_kw\u001b[0m\u001b[0;34m)\u001b[0m\u001b[0;34m\u001b[0m\u001b[0m\n\u001b[0m\u001b[1;32m    358\u001b[0m \u001b[0;34m\u001b[0m\u001b[0m\n",
      "\u001b[0;32m~/.pyenv/versions/anaconda3-5.0.1/lib/python3.6/http/client.py\u001b[0m in \u001b[0;36mrequest\u001b[0;34m(self, method, url, body, headers, encode_chunked)\u001b[0m\n\u001b[1;32m   1238\u001b[0m         \u001b[0;34m\"\"\"Send a complete request to the server.\"\"\"\u001b[0m\u001b[0;34m\u001b[0m\u001b[0m\n\u001b[0;32m-> 1239\u001b[0;31m         \u001b[0mself\u001b[0m\u001b[0;34m.\u001b[0m\u001b[0m_send_request\u001b[0m\u001b[0;34m(\u001b[0m\u001b[0mmethod\u001b[0m\u001b[0;34m,\u001b[0m \u001b[0murl\u001b[0m\u001b[0;34m,\u001b[0m \u001b[0mbody\u001b[0m\u001b[0;34m,\u001b[0m \u001b[0mheaders\u001b[0m\u001b[0;34m,\u001b[0m \u001b[0mencode_chunked\u001b[0m\u001b[0;34m)\u001b[0m\u001b[0;34m\u001b[0m\u001b[0m\n\u001b[0m\u001b[1;32m   1240\u001b[0m \u001b[0;34m\u001b[0m\u001b[0m\n",
      "\u001b[0;32m~/.pyenv/versions/anaconda3-5.0.1/lib/python3.6/http/client.py\u001b[0m in \u001b[0;36m_send_request\u001b[0;34m(self, method, url, body, headers, encode_chunked)\u001b[0m\n\u001b[1;32m   1284\u001b[0m             \u001b[0mbody\u001b[0m \u001b[0;34m=\u001b[0m \u001b[0m_encode\u001b[0m\u001b[0;34m(\u001b[0m\u001b[0mbody\u001b[0m\u001b[0;34m,\u001b[0m \u001b[0;34m'body'\u001b[0m\u001b[0;34m)\u001b[0m\u001b[0;34m\u001b[0m\u001b[0m\n\u001b[0;32m-> 1285\u001b[0;31m         \u001b[0mself\u001b[0m\u001b[0;34m.\u001b[0m\u001b[0mendheaders\u001b[0m\u001b[0;34m(\u001b[0m\u001b[0mbody\u001b[0m\u001b[0;34m,\u001b[0m \u001b[0mencode_chunked\u001b[0m\u001b[0;34m=\u001b[0m\u001b[0mencode_chunked\u001b[0m\u001b[0;34m)\u001b[0m\u001b[0;34m\u001b[0m\u001b[0m\n\u001b[0m\u001b[1;32m   1286\u001b[0m \u001b[0;34m\u001b[0m\u001b[0m\n",
      "\u001b[0;32m~/.pyenv/versions/anaconda3-5.0.1/lib/python3.6/http/client.py\u001b[0m in \u001b[0;36mendheaders\u001b[0;34m(self, message_body, encode_chunked)\u001b[0m\n\u001b[1;32m   1233\u001b[0m             \u001b[0;32mraise\u001b[0m \u001b[0mCannotSendHeader\u001b[0m\u001b[0;34m(\u001b[0m\u001b[0;34m)\u001b[0m\u001b[0;34m\u001b[0m\u001b[0m\n\u001b[0;32m-> 1234\u001b[0;31m         \u001b[0mself\u001b[0m\u001b[0;34m.\u001b[0m\u001b[0m_send_output\u001b[0m\u001b[0;34m(\u001b[0m\u001b[0mmessage_body\u001b[0m\u001b[0;34m,\u001b[0m \u001b[0mencode_chunked\u001b[0m\u001b[0;34m=\u001b[0m\u001b[0mencode_chunked\u001b[0m\u001b[0;34m)\u001b[0m\u001b[0;34m\u001b[0m\u001b[0m\n\u001b[0m\u001b[1;32m   1235\u001b[0m \u001b[0;34m\u001b[0m\u001b[0m\n",
      "\u001b[0;32m~/.pyenv/versions/anaconda3-5.0.1/lib/python3.6/http/client.py\u001b[0m in \u001b[0;36m_send_output\u001b[0;34m(self, message_body, encode_chunked)\u001b[0m\n\u001b[1;32m   1025\u001b[0m         \u001b[0;32mdel\u001b[0m \u001b[0mself\u001b[0m\u001b[0;34m.\u001b[0m\u001b[0m_buffer\u001b[0m\u001b[0;34m[\u001b[0m\u001b[0;34m:\u001b[0m\u001b[0;34m]\u001b[0m\u001b[0;34m\u001b[0m\u001b[0m\n\u001b[0;32m-> 1026\u001b[0;31m         \u001b[0mself\u001b[0m\u001b[0;34m.\u001b[0m\u001b[0msend\u001b[0m\u001b[0;34m(\u001b[0m\u001b[0mmsg\u001b[0m\u001b[0;34m)\u001b[0m\u001b[0;34m\u001b[0m\u001b[0m\n\u001b[0m\u001b[1;32m   1027\u001b[0m \u001b[0;34m\u001b[0m\u001b[0m\n",
      "\u001b[0;32m~/.pyenv/versions/anaconda3-5.0.1/lib/python3.6/http/client.py\u001b[0m in \u001b[0;36msend\u001b[0;34m(self, data)\u001b[0m\n\u001b[1;32m    963\u001b[0m             \u001b[0;32mif\u001b[0m \u001b[0mself\u001b[0m\u001b[0;34m.\u001b[0m\u001b[0mauto_open\u001b[0m\u001b[0;34m:\u001b[0m\u001b[0;34m\u001b[0m\u001b[0m\n\u001b[0;32m--> 964\u001b[0;31m                 \u001b[0mself\u001b[0m\u001b[0;34m.\u001b[0m\u001b[0mconnect\u001b[0m\u001b[0;34m(\u001b[0m\u001b[0;34m)\u001b[0m\u001b[0;34m\u001b[0m\u001b[0m\n\u001b[0m\u001b[1;32m    965\u001b[0m             \u001b[0;32melse\u001b[0m\u001b[0;34m:\u001b[0m\u001b[0;34m\u001b[0m\u001b[0m\n",
      "\u001b[0;32m~/.pyenv/versions/anaconda3-5.0.1/lib/python3.6/site-packages/urllib3/connection.py\u001b[0m in \u001b[0;36mconnect\u001b[0;34m(self)\u001b[0m\n\u001b[1;32m    165\u001b[0m     \u001b[0;32mdef\u001b[0m \u001b[0mconnect\u001b[0m\u001b[0;34m(\u001b[0m\u001b[0mself\u001b[0m\u001b[0;34m)\u001b[0m\u001b[0;34m:\u001b[0m\u001b[0;34m\u001b[0m\u001b[0m\n\u001b[0;32m--> 166\u001b[0;31m         \u001b[0mconn\u001b[0m \u001b[0;34m=\u001b[0m \u001b[0mself\u001b[0m\u001b[0;34m.\u001b[0m\u001b[0m_new_conn\u001b[0m\u001b[0;34m(\u001b[0m\u001b[0;34m)\u001b[0m\u001b[0;34m\u001b[0m\u001b[0m\n\u001b[0m\u001b[1;32m    167\u001b[0m         \u001b[0mself\u001b[0m\u001b[0;34m.\u001b[0m\u001b[0m_prepare_conn\u001b[0m\u001b[0;34m(\u001b[0m\u001b[0mconn\u001b[0m\u001b[0;34m)\u001b[0m\u001b[0;34m\u001b[0m\u001b[0m\n",
      "\u001b[0;32m~/.pyenv/versions/anaconda3-5.0.1/lib/python3.6/site-packages/urllib3/connection.py\u001b[0m in \u001b[0;36m_new_conn\u001b[0;34m(self)\u001b[0m\n\u001b[1;32m    149\u001b[0m             raise NewConnectionError(\n\u001b[0;32m--> 150\u001b[0;31m                 self, \"Failed to establish a new connection: %s\" % e)\n\u001b[0m\u001b[1;32m    151\u001b[0m \u001b[0;34m\u001b[0m\u001b[0m\n",
      "\u001b[0;31mNewConnectionError\u001b[0m: <urllib3.connection.HTTPConnection object at 0x108cc22b0>: Failed to establish a new connection: [Errno 61] Connection refused",
      "\nDuring handling of the above exception, another exception occurred:\n",
      "\u001b[0;31mMaxRetryError\u001b[0m                             Traceback (most recent call last)",
      "\u001b[0;32m~/.pyenv/versions/anaconda3-5.0.1/lib/python3.6/site-packages/requests/adapters.py\u001b[0m in \u001b[0;36msend\u001b[0;34m(self, request, stream, timeout, verify, cert, proxies)\u001b[0m\n\u001b[1;32m    439\u001b[0m                     \u001b[0mretries\u001b[0m\u001b[0;34m=\u001b[0m\u001b[0mself\u001b[0m\u001b[0;34m.\u001b[0m\u001b[0mmax_retries\u001b[0m\u001b[0;34m,\u001b[0m\u001b[0;34m\u001b[0m\u001b[0m\n\u001b[0;32m--> 440\u001b[0;31m                     \u001b[0mtimeout\u001b[0m\u001b[0;34m=\u001b[0m\u001b[0mtimeout\u001b[0m\u001b[0;34m\u001b[0m\u001b[0m\n\u001b[0m\u001b[1;32m    441\u001b[0m                 )\n",
      "\u001b[0;32m~/.pyenv/versions/anaconda3-5.0.1/lib/python3.6/site-packages/urllib3/connectionpool.py\u001b[0m in \u001b[0;36murlopen\u001b[0;34m(self, method, url, body, headers, retries, redirect, assert_same_host, timeout, pool_timeout, release_conn, chunked, body_pos, **response_kw)\u001b[0m\n\u001b[1;32m    638\u001b[0m             retries = retries.increment(method, url, error=e, _pool=self,\n\u001b[0;32m--> 639\u001b[0;31m                                         _stacktrace=sys.exc_info()[2])\n\u001b[0m\u001b[1;32m    640\u001b[0m             \u001b[0mretries\u001b[0m\u001b[0;34m.\u001b[0m\u001b[0msleep\u001b[0m\u001b[0;34m(\u001b[0m\u001b[0;34m)\u001b[0m\u001b[0;34m\u001b[0m\u001b[0m\n",
      "\u001b[0;32m~/.pyenv/versions/anaconda3-5.0.1/lib/python3.6/site-packages/urllib3/util/retry.py\u001b[0m in \u001b[0;36mincrement\u001b[0;34m(self, method, url, response, error, _pool, _stacktrace)\u001b[0m\n\u001b[1;32m    387\u001b[0m         \u001b[0;32mif\u001b[0m \u001b[0mnew_retry\u001b[0m\u001b[0;34m.\u001b[0m\u001b[0mis_exhausted\u001b[0m\u001b[0;34m(\u001b[0m\u001b[0;34m)\u001b[0m\u001b[0;34m:\u001b[0m\u001b[0;34m\u001b[0m\u001b[0m\n\u001b[0;32m--> 388\u001b[0;31m             \u001b[0;32mraise\u001b[0m \u001b[0mMaxRetryError\u001b[0m\u001b[0;34m(\u001b[0m\u001b[0m_pool\u001b[0m\u001b[0;34m,\u001b[0m \u001b[0murl\u001b[0m\u001b[0;34m,\u001b[0m \u001b[0merror\u001b[0m \u001b[0;32mor\u001b[0m \u001b[0mResponseError\u001b[0m\u001b[0;34m(\u001b[0m\u001b[0mcause\u001b[0m\u001b[0;34m)\u001b[0m\u001b[0;34m)\u001b[0m\u001b[0;34m\u001b[0m\u001b[0m\n\u001b[0m\u001b[1;32m    389\u001b[0m \u001b[0;34m\u001b[0m\u001b[0m\n",
      "\u001b[0;31mMaxRetryError\u001b[0m: HTTPConnectionPool(host='localhost', port=9999): Max retries exceeded with url: /echo/Mothra (Caused by NewConnectionError('<urllib3.connection.HTTPConnection object at 0x108cc22b0>: Failed to establish a new connection: [Errno 61] Connection refused',))",
      "\nDuring handling of the above exception, another exception occurred:\n",
      "\u001b[0;31mConnectionError\u001b[0m                           Traceback (most recent call last)",
      "\u001b[0;32m<ipython-input-26-c1551b5061cf>\u001b[0m in \u001b[0;36m<module>\u001b[0;34m()\u001b[0m\n\u001b[1;32m      2\u001b[0m \u001b[0;32mimport\u001b[0m \u001b[0mrequests\u001b[0m\u001b[0;34m\u001b[0m\u001b[0m\n\u001b[1;32m      3\u001b[0m \u001b[0;34m\u001b[0m\u001b[0m\n\u001b[0;32m----> 4\u001b[0;31m \u001b[0mresp\u001b[0m \u001b[0;34m=\u001b[0m \u001b[0mrequests\u001b[0m\u001b[0;34m.\u001b[0m\u001b[0mget\u001b[0m\u001b[0;34m(\u001b[0m\u001b[0;34m'http://localhost:9999/echo/Mothra'\u001b[0m\u001b[0;34m)\u001b[0m\u001b[0;34m\u001b[0m\u001b[0m\n\u001b[0m\u001b[1;32m      5\u001b[0m \u001b[0;32mif\u001b[0m \u001b[0mresp\u001b[0m\u001b[0;34m.\u001b[0m\u001b[0mstatus_code\u001b[0m \u001b[0;34m==\u001b[0m \u001b[0;36m200\u001b[0m \u001b[0;32mand\u001b[0m \u001b[0mresp\u001b[0m\u001b[0;34m.\u001b[0m\u001b[0mtext\u001b[0m \u001b[0;34m==\u001b[0m \u001b[0;34m'Say hello to my little friend: Mothra!'\u001b[0m\u001b[0;34m:\u001b[0m\u001b[0;34m\u001b[0m\u001b[0m\n\u001b[1;32m      6\u001b[0m     \u001b[0mprint\u001b[0m\u001b[0;34m(\u001b[0m\u001b[0;34m'It worked! That almost never happens!'\u001b[0m\u001b[0;34m)\u001b[0m\u001b[0;34m\u001b[0m\u001b[0m\n",
      "\u001b[0;32m~/.pyenv/versions/anaconda3-5.0.1/lib/python3.6/site-packages/requests/api.py\u001b[0m in \u001b[0;36mget\u001b[0;34m(url, params, **kwargs)\u001b[0m\n\u001b[1;32m     70\u001b[0m \u001b[0;34m\u001b[0m\u001b[0m\n\u001b[1;32m     71\u001b[0m     \u001b[0mkwargs\u001b[0m\u001b[0;34m.\u001b[0m\u001b[0msetdefault\u001b[0m\u001b[0;34m(\u001b[0m\u001b[0;34m'allow_redirects'\u001b[0m\u001b[0;34m,\u001b[0m \u001b[0;32mTrue\u001b[0m\u001b[0;34m)\u001b[0m\u001b[0;34m\u001b[0m\u001b[0m\n\u001b[0;32m---> 72\u001b[0;31m     \u001b[0;32mreturn\u001b[0m \u001b[0mrequest\u001b[0m\u001b[0;34m(\u001b[0m\u001b[0;34m'get'\u001b[0m\u001b[0;34m,\u001b[0m \u001b[0murl\u001b[0m\u001b[0;34m,\u001b[0m \u001b[0mparams\u001b[0m\u001b[0;34m=\u001b[0m\u001b[0mparams\u001b[0m\u001b[0;34m,\u001b[0m \u001b[0;34m**\u001b[0m\u001b[0mkwargs\u001b[0m\u001b[0;34m)\u001b[0m\u001b[0;34m\u001b[0m\u001b[0m\n\u001b[0m\u001b[1;32m     73\u001b[0m \u001b[0;34m\u001b[0m\u001b[0m\n\u001b[1;32m     74\u001b[0m \u001b[0;34m\u001b[0m\u001b[0m\n",
      "\u001b[0;32m~/.pyenv/versions/anaconda3-5.0.1/lib/python3.6/site-packages/requests/api.py\u001b[0m in \u001b[0;36mrequest\u001b[0;34m(method, url, **kwargs)\u001b[0m\n\u001b[1;32m     56\u001b[0m     \u001b[0;31m# cases, and look like a memory leak in others.\u001b[0m\u001b[0;34m\u001b[0m\u001b[0;34m\u001b[0m\u001b[0m\n\u001b[1;32m     57\u001b[0m     \u001b[0;32mwith\u001b[0m \u001b[0msessions\u001b[0m\u001b[0;34m.\u001b[0m\u001b[0mSession\u001b[0m\u001b[0;34m(\u001b[0m\u001b[0;34m)\u001b[0m \u001b[0;32mas\u001b[0m \u001b[0msession\u001b[0m\u001b[0;34m:\u001b[0m\u001b[0;34m\u001b[0m\u001b[0m\n\u001b[0;32m---> 58\u001b[0;31m         \u001b[0;32mreturn\u001b[0m \u001b[0msession\u001b[0m\u001b[0;34m.\u001b[0m\u001b[0mrequest\u001b[0m\u001b[0;34m(\u001b[0m\u001b[0mmethod\u001b[0m\u001b[0;34m=\u001b[0m\u001b[0mmethod\u001b[0m\u001b[0;34m,\u001b[0m \u001b[0murl\u001b[0m\u001b[0;34m=\u001b[0m\u001b[0murl\u001b[0m\u001b[0;34m,\u001b[0m \u001b[0;34m**\u001b[0m\u001b[0mkwargs\u001b[0m\u001b[0;34m)\u001b[0m\u001b[0;34m\u001b[0m\u001b[0m\n\u001b[0m\u001b[1;32m     59\u001b[0m \u001b[0;34m\u001b[0m\u001b[0m\n\u001b[1;32m     60\u001b[0m \u001b[0;34m\u001b[0m\u001b[0m\n",
      "\u001b[0;32m~/.pyenv/versions/anaconda3-5.0.1/lib/python3.6/site-packages/requests/sessions.py\u001b[0m in \u001b[0;36mrequest\u001b[0;34m(self, method, url, params, data, headers, cookies, files, auth, timeout, allow_redirects, proxies, hooks, stream, verify, cert, json)\u001b[0m\n\u001b[1;32m    506\u001b[0m         }\n\u001b[1;32m    507\u001b[0m         \u001b[0msend_kwargs\u001b[0m\u001b[0;34m.\u001b[0m\u001b[0mupdate\u001b[0m\u001b[0;34m(\u001b[0m\u001b[0msettings\u001b[0m\u001b[0;34m)\u001b[0m\u001b[0;34m\u001b[0m\u001b[0m\n\u001b[0;32m--> 508\u001b[0;31m         \u001b[0mresp\u001b[0m \u001b[0;34m=\u001b[0m \u001b[0mself\u001b[0m\u001b[0;34m.\u001b[0m\u001b[0msend\u001b[0m\u001b[0;34m(\u001b[0m\u001b[0mprep\u001b[0m\u001b[0;34m,\u001b[0m \u001b[0;34m**\u001b[0m\u001b[0msend_kwargs\u001b[0m\u001b[0;34m)\u001b[0m\u001b[0;34m\u001b[0m\u001b[0m\n\u001b[0m\u001b[1;32m    509\u001b[0m \u001b[0;34m\u001b[0m\u001b[0m\n\u001b[1;32m    510\u001b[0m         \u001b[0;32mreturn\u001b[0m \u001b[0mresp\u001b[0m\u001b[0;34m\u001b[0m\u001b[0m\n",
      "\u001b[0;32m~/.pyenv/versions/anaconda3-5.0.1/lib/python3.6/site-packages/requests/sessions.py\u001b[0m in \u001b[0;36msend\u001b[0;34m(self, request, **kwargs)\u001b[0m\n\u001b[1;32m    616\u001b[0m \u001b[0;34m\u001b[0m\u001b[0m\n\u001b[1;32m    617\u001b[0m         \u001b[0;31m# Send the request\u001b[0m\u001b[0;34m\u001b[0m\u001b[0;34m\u001b[0m\u001b[0m\n\u001b[0;32m--> 618\u001b[0;31m         \u001b[0mr\u001b[0m \u001b[0;34m=\u001b[0m \u001b[0madapter\u001b[0m\u001b[0;34m.\u001b[0m\u001b[0msend\u001b[0m\u001b[0;34m(\u001b[0m\u001b[0mrequest\u001b[0m\u001b[0;34m,\u001b[0m \u001b[0;34m**\u001b[0m\u001b[0mkwargs\u001b[0m\u001b[0;34m)\u001b[0m\u001b[0;34m\u001b[0m\u001b[0m\n\u001b[0m\u001b[1;32m    619\u001b[0m \u001b[0;34m\u001b[0m\u001b[0m\n\u001b[1;32m    620\u001b[0m         \u001b[0;31m# Total elapsed time of the request (approximately)\u001b[0m\u001b[0;34m\u001b[0m\u001b[0;34m\u001b[0m\u001b[0m\n",
      "\u001b[0;32m~/.pyenv/versions/anaconda3-5.0.1/lib/python3.6/site-packages/requests/adapters.py\u001b[0m in \u001b[0;36msend\u001b[0;34m(self, request, stream, timeout, verify, cert, proxies)\u001b[0m\n\u001b[1;32m    506\u001b[0m                 \u001b[0;32mraise\u001b[0m \u001b[0mSSLError\u001b[0m\u001b[0;34m(\u001b[0m\u001b[0me\u001b[0m\u001b[0;34m,\u001b[0m \u001b[0mrequest\u001b[0m\u001b[0;34m=\u001b[0m\u001b[0mrequest\u001b[0m\u001b[0;34m)\u001b[0m\u001b[0;34m\u001b[0m\u001b[0m\n\u001b[1;32m    507\u001b[0m \u001b[0;34m\u001b[0m\u001b[0m\n\u001b[0;32m--> 508\u001b[0;31m             \u001b[0;32mraise\u001b[0m \u001b[0mConnectionError\u001b[0m\u001b[0;34m(\u001b[0m\u001b[0me\u001b[0m\u001b[0;34m,\u001b[0m \u001b[0mrequest\u001b[0m\u001b[0;34m=\u001b[0m\u001b[0mrequest\u001b[0m\u001b[0;34m)\u001b[0m\u001b[0;34m\u001b[0m\u001b[0m\n\u001b[0m\u001b[1;32m    509\u001b[0m \u001b[0;34m\u001b[0m\u001b[0m\n\u001b[1;32m    510\u001b[0m         \u001b[0;32mexcept\u001b[0m \u001b[0mClosedPoolError\u001b[0m \u001b[0;32mas\u001b[0m \u001b[0me\u001b[0m\u001b[0;34m:\u001b[0m\u001b[0;34m\u001b[0m\u001b[0m\n",
      "\u001b[0;31mConnectionError\u001b[0m: HTTPConnectionPool(host='localhost', port=9999): Max retries exceeded with url: /echo/Mothra (Caused by NewConnectionError('<urllib3.connection.HTTPConnection object at 0x108cc22b0>: Failed to establish a new connection: [Errno 61] Connection refused',))"
     ]
    }
   ],
   "source": [
    "# bottle_test.py ※クライアントサイド\n",
    "import requests\n",
    "\n",
    "resp = requests.get('http://localhost:9999/echo/Mothra')\n",
    "if resp.status_code == 200 and resp.text == 'Say hello to my little friend: Mothra!':\n",
    "    print('It worked! That almost never happens!')\n",
    "else:\n",
    "    print('Argh, got this:', resp.text)"
   ]
  },
  {
   "cell_type": "code",
   "execution_count": 27,
   "metadata": {},
   "outputs": [
    {
     "name": "stderr",
     "output_type": "stream",
     "text": [
      " * Running on http://127.0.0.1:9999/ (Press CTRL+C to quit)\n",
      " * Restarting with stat\n"
     ]
    },
    {
     "ename": "SystemExit",
     "evalue": "1",
     "output_type": "error",
     "traceback": [
      "An exception has occurred, use %tb to see the full traceback.\n",
      "\u001b[0;31mSystemExit\u001b[0m\u001b[0;31m:\u001b[0m 1\n"
     ]
    },
    {
     "name": "stderr",
     "output_type": "stream",
     "text": [
      "/Users/inoueshinichi/.pyenv/versions/anaconda3-5.0.1/lib/python3.6/site-packages/IPython/core/interactiveshell.py:2918: UserWarning: To exit: use 'exit', 'quit', or Ctrl-D.\n",
      "  warn(\"To exit: use 'exit', 'quit', or Ctrl-D.\", stacklevel=1)\n"
     ]
    }
   ],
   "source": [
    "# Flask\n",
    "# flask1.py\n",
    "from flask import Flask\n",
    "\n",
    "# Flaskの静的ファイルのフォルダホームディレクトリはstaticであり、そのディレクトリのファイルに対するURLも\n",
    "# /staticで始まる。そこで、ホームディレクトリを'.'（カレントディレクトリに移動し、URLのプレフィックスも''にして）\n",
    "# /というURLがindex.htmlファイルにマッピングされるようにする\n",
    "app = Flask(__name__, static_folder='.', static_url_path='')\n",
    "\n",
    "@app.route('/')\n",
    "def home():\n",
    "    return app.send_static_file('index.html')\n",
    "\n",
    "@app.route('/echo/<thing>')\n",
    "def echo(thing):\n",
    "    return thing\n",
    "\n",
    "app.run(port=9999, debug=True)"
   ]
  },
  {
   "cell_type": "code",
   "execution_count": 16,
   "metadata": {},
   "outputs": [
    {
     "name": "stderr",
     "output_type": "stream",
     "text": [
      " * Running on http://127.0.0.1:9999/ (Press CTRL+C to quit)\n",
      " * Restarting with stat\n"
     ]
    },
    {
     "ename": "SystemExit",
     "evalue": "1",
     "output_type": "error",
     "traceback": [
      "An exception has occurred, use %tb to see the full traceback.\n",
      "\u001b[0;31mSystemExit\u001b[0m\u001b[0;31m:\u001b[0m 1\n"
     ]
    },
    {
     "name": "stderr",
     "output_type": "stream",
     "text": [
      "/Users/inoueshinichi/.pyenv/versions/anaconda3-5.0.1/lib/python3.6/site-packages/IPython/core/interactiveshell.py:2918: UserWarning: To exit: use 'exit', 'quit', or Ctrl-D.\n",
      "  warn(\"To exit: use 'exit', 'quit', or Ctrl-D.\", stacklevel=1)\n"
     ]
    }
   ],
   "source": [
    "# Bottleにできなくて、Flaskにできること\n",
    "# -> テンプレートシステムのjinja2 !!!\n",
    "# templatesというディレクトリを作り、flask2.htmlを中に作る\n",
    "# flask2.py\n",
    "from flask import Flask, render_template\n",
    "\n",
    "app = Flask(__name__, static_folder='.', static_url_path='')\n",
    "\n",
    "@app.route('/echo/<thing>')\n",
    "def echo(thing):\n",
    "    return render_template('flask2.html', thing=thing)\n",
    "\n",
    "app.run(port=9999, debug=True)"
   ]
  },
  {
   "cell_type": "code",
   "execution_count": 17,
   "metadata": {
    "scrolled": true
   },
   "outputs": [
    {
     "name": "stderr",
     "output_type": "stream",
     "text": [
      " * Running on http://127.0.0.1:9000/ (Press CTRL+C to quit)\n",
      " * Restarting with stat\n"
     ]
    },
    {
     "ename": "SystemExit",
     "evalue": "1",
     "output_type": "error",
     "traceback": [
      "An exception has occurred, use %tb to see the full traceback.\n",
      "\u001b[0;31mSystemExit\u001b[0m\u001b[0;31m:\u001b[0m 1\n"
     ]
    },
    {
     "name": "stderr",
     "output_type": "stream",
     "text": [
      "/Users/inoueshinichi/.pyenv/versions/anaconda3-5.0.1/lib/python3.6/site-packages/IPython/core/interactiveshell.py:2918: UserWarning: To exit: use 'exit', 'quit', or Ctrl-D.\n",
      "  warn(\"To exit: use 'exit', 'quit', or Ctrl-D.\", stacklevel=1)\n"
     ]
    }
   ],
   "source": [
    "# URLパスの一部という形で引数渡し\n",
    "# flask3a.py\n",
    "from flask import Flask, render_template\n",
    "\n",
    "app = Flask(__name__, static_folder='.', static_url_path='')\n",
    "\n",
    "@app.route('/echo/<thing>')\n",
    "def echo(thing):\n",
    "    return render_template('flask3.html', thing=thing, place=place)\n",
    "\n",
    "app.run(port=9000, debug=True)"
   ]
  },
  {
   "cell_type": "code",
   "execution_count": 22,
   "metadata": {},
   "outputs": [
    {
     "name": "stderr",
     "output_type": "stream",
     "text": [
      " * Running on http://localhost:8000/ (Press CTRL+C to quit)\n",
      " * Restarting with stat\n"
     ]
    },
    {
     "ename": "SystemExit",
     "evalue": "1",
     "output_type": "error",
     "traceback": [
      "An exception has occurred, use %tb to see the full traceback.\n",
      "\u001b[0;31mSystemExit\u001b[0m\u001b[0;31m:\u001b[0m 1\n"
     ]
    },
    {
     "name": "stderr",
     "output_type": "stream",
     "text": [
      "/Users/inoueshinichi/.pyenv/versions/anaconda3-5.0.1/lib/python3.6/site-packages/IPython/core/interactiveshell.py:2918: UserWarning: To exit: use 'exit', 'quit', or Ctrl-D.\n",
      "  warn(\"To exit: use 'exit', 'quit', or Ctrl-D.\", stacklevel=1)\n"
     ]
    }
   ],
   "source": [
    "# flask3b.py\n",
    "from flask import Flask, render_template, request\n",
    "\n",
    "app = Flask(__name__, static_folder='.', static_url_path='')\n",
    "\n",
    "@app.route('/echo/')\n",
    "def echo():\n",
    "    thing = request.args.get('thing')\n",
    "    place = request.args.get('place')\n",
    "    return render_template('flask3.html', thing=thing, place=place)\n",
    "\n",
    "app.run(host='localhost', port=8000, debug=True)"
   ]
  },
  {
   "cell_type": "code",
   "execution_count": 23,
   "metadata": {},
   "outputs": [
    {
     "ename": "OSError",
     "evalue": "[Errno 48] Address already in use",
     "output_type": "error",
     "traceback": [
      "\u001b[0;31m---------------------------------------------------------------------------\u001b[0m",
      "\u001b[0;31mOSError\u001b[0m                                   Traceback (most recent call last)",
      "\u001b[0;32m<ipython-input-23-159fce072406>\u001b[0m in \u001b[0;36m<module>\u001b[0;34m()\u001b[0m\n\u001b[1;32m     12\u001b[0m \u001b[0;34m\u001b[0m\u001b[0m\n\u001b[1;32m     13\u001b[0m \u001b[0;34m\u001b[0m\u001b[0m\n\u001b[0;32m---> 14\u001b[0;31m \u001b[0mapp\u001b[0m\u001b[0;34m.\u001b[0m\u001b[0mrun\u001b[0m\u001b[0;34m(\u001b[0m\u001b[0mhost\u001b[0m\u001b[0;34m=\u001b[0m\u001b[0;34m'localhost'\u001b[0m\u001b[0;34m,\u001b[0m \u001b[0mport\u001b[0m\u001b[0;34m=\u001b[0m\u001b[0;36m8000\u001b[0m\u001b[0;34m,\u001b[0m \u001b[0mdebug\u001b[0m\u001b[0;34m=\u001b[0m\u001b[0;32mTrue\u001b[0m\u001b[0;34m)\u001b[0m\u001b[0;34m\u001b[0m\u001b[0m\n\u001b[0m",
      "\u001b[0;32m~/.pyenv/versions/anaconda3-5.0.1/lib/python3.6/site-packages/flask/app.py\u001b[0m in \u001b[0;36mrun\u001b[0;34m(self, host, port, debug, **options)\u001b[0m\n\u001b[1;32m    839\u001b[0m         \u001b[0moptions\u001b[0m\u001b[0;34m.\u001b[0m\u001b[0msetdefault\u001b[0m\u001b[0;34m(\u001b[0m\u001b[0;34m'use_debugger'\u001b[0m\u001b[0;34m,\u001b[0m \u001b[0mself\u001b[0m\u001b[0;34m.\u001b[0m\u001b[0mdebug\u001b[0m\u001b[0;34m)\u001b[0m\u001b[0;34m\u001b[0m\u001b[0m\n\u001b[1;32m    840\u001b[0m         \u001b[0;32mtry\u001b[0m\u001b[0;34m:\u001b[0m\u001b[0;34m\u001b[0m\u001b[0m\n\u001b[0;32m--> 841\u001b[0;31m             \u001b[0mrun_simple\u001b[0m\u001b[0;34m(\u001b[0m\u001b[0mhost\u001b[0m\u001b[0;34m,\u001b[0m \u001b[0mport\u001b[0m\u001b[0;34m,\u001b[0m \u001b[0mself\u001b[0m\u001b[0;34m,\u001b[0m \u001b[0;34m**\u001b[0m\u001b[0moptions\u001b[0m\u001b[0;34m)\u001b[0m\u001b[0;34m\u001b[0m\u001b[0m\n\u001b[0m\u001b[1;32m    842\u001b[0m         \u001b[0;32mfinally\u001b[0m\u001b[0;34m:\u001b[0m\u001b[0;34m\u001b[0m\u001b[0m\n\u001b[1;32m    843\u001b[0m             \u001b[0;31m# reset the first request information if the development server\u001b[0m\u001b[0;34m\u001b[0m\u001b[0;34m\u001b[0m\u001b[0m\n",
      "\u001b[0;32m~/.pyenv/versions/anaconda3-5.0.1/lib/python3.6/site-packages/werkzeug/serving.py\u001b[0m in \u001b[0;36mrun_simple\u001b[0;34m(hostname, port, application, use_reloader, use_debugger, use_evalex, extra_files, reloader_interval, reloader_type, threaded, processes, request_handler, static_files, passthrough_errors, ssl_context)\u001b[0m\n\u001b[1;32m    793\u001b[0m             \u001b[0ms\u001b[0m \u001b[0;34m=\u001b[0m \u001b[0msocket\u001b[0m\u001b[0;34m.\u001b[0m\u001b[0msocket\u001b[0m\u001b[0;34m(\u001b[0m\u001b[0maddress_family\u001b[0m\u001b[0;34m,\u001b[0m \u001b[0msocket\u001b[0m\u001b[0;34m.\u001b[0m\u001b[0mSOCK_STREAM\u001b[0m\u001b[0;34m)\u001b[0m\u001b[0;34m\u001b[0m\u001b[0m\n\u001b[1;32m    794\u001b[0m             \u001b[0ms\u001b[0m\u001b[0;34m.\u001b[0m\u001b[0msetsockopt\u001b[0m\u001b[0;34m(\u001b[0m\u001b[0msocket\u001b[0m\u001b[0;34m.\u001b[0m\u001b[0mSOL_SOCKET\u001b[0m\u001b[0;34m,\u001b[0m \u001b[0msocket\u001b[0m\u001b[0;34m.\u001b[0m\u001b[0mSO_REUSEADDR\u001b[0m\u001b[0;34m,\u001b[0m \u001b[0;36m1\u001b[0m\u001b[0;34m)\u001b[0m\u001b[0;34m\u001b[0m\u001b[0m\n\u001b[0;32m--> 795\u001b[0;31m             \u001b[0ms\u001b[0m\u001b[0;34m.\u001b[0m\u001b[0mbind\u001b[0m\u001b[0;34m(\u001b[0m\u001b[0mget_sockaddr\u001b[0m\u001b[0;34m(\u001b[0m\u001b[0mhostname\u001b[0m\u001b[0;34m,\u001b[0m \u001b[0mport\u001b[0m\u001b[0;34m,\u001b[0m \u001b[0maddress_family\u001b[0m\u001b[0;34m)\u001b[0m\u001b[0;34m)\u001b[0m\u001b[0;34m\u001b[0m\u001b[0m\n\u001b[0m\u001b[1;32m    796\u001b[0m             \u001b[0;32mif\u001b[0m \u001b[0mhasattr\u001b[0m\u001b[0;34m(\u001b[0m\u001b[0ms\u001b[0m\u001b[0;34m,\u001b[0m \u001b[0;34m'set_inheritable'\u001b[0m\u001b[0;34m)\u001b[0m\u001b[0;34m:\u001b[0m\u001b[0;34m\u001b[0m\u001b[0m\n\u001b[1;32m    797\u001b[0m                 \u001b[0ms\u001b[0m\u001b[0;34m.\u001b[0m\u001b[0mset_inheritable\u001b[0m\u001b[0;34m(\u001b[0m\u001b[0;32mTrue\u001b[0m\u001b[0;34m)\u001b[0m\u001b[0;34m\u001b[0m\u001b[0m\n",
      "\u001b[0;31mOSError\u001b[0m: [Errno 48] Address already in use"
     ]
    }
   ],
   "source": [
    "# flask3c.py\n",
    "from flask import Flask, render_template, request\n",
    "\n",
    "app = Flask(__name__, static_folder='.', static_url_path='')\n",
    "\n",
    "@app.route('/echo/')\n",
    "def echo():\n",
    "    kwargs = {}\n",
    "    kwargs['thing'] = request.args.get('thing')\n",
    "    kwargs['place'] = request.args.get('place')\n",
    "    return render_template('flask3.html', **kwargs)\n",
    "\n",
    "\n",
    "app.run(host='localhost', port=8000, debug=True)"
   ]
  },
  {
   "cell_type": "code",
   "execution_count": 18,
   "metadata": {
    "collapsed": true
   },
   "outputs": [],
   "source": [
    "# webbrowserモジュール\n",
    "import antigravity"
   ]
  },
  {
   "cell_type": "code",
   "execution_count": 19,
   "metadata": {},
   "outputs": [
    {
     "data": {
      "text/plain": [
       "True"
      ]
     },
     "execution_count": 19,
     "metadata": {},
     "output_type": "execute_result"
    }
   ],
   "source": [
    "# ブラウザーにURLをロードして表示\n",
    "import webbrowser\n",
    "url = 'http://www.python.org/'\n",
    "webbrowser.open(url)"
   ]
  },
  {
   "cell_type": "code",
   "execution_count": 20,
   "metadata": {},
   "outputs": [
    {
     "data": {
      "text/plain": [
       "True"
      ]
     },
     "execution_count": 20,
     "metadata": {},
     "output_type": "execute_result"
    }
   ],
   "source": [
    "# 新しいウィンドウにデータをURLをロードする ※ブラウザによって、挙動が変わる\n",
    "webbrowser.open_new(url)"
   ]
  },
  {
   "cell_type": "code",
   "execution_count": 21,
   "metadata": {},
   "outputs": [
    {
     "data": {
      "text/plain": [
       "True"
      ]
     },
     "execution_count": 21,
     "metadata": {},
     "output_type": "execute_result"
    }
   ],
   "source": [
    "# 新しいタブにデータをロード\n",
    "webbrowser.open_new_tab('http://www.python.org')"
   ]
  },
  {
   "cell_type": "code",
   "execution_count": 2,
   "metadata": {},
   "outputs": [
    {
     "name": "stdout",
     "output_type": "stream",
     "text": [
      "Links in http://boingboing.net/\n",
      "1 https://boingboing.net\n",
      "2 http://boingboing.net/sub\n",
      "3 https://boingboing.net/search\n",
      "4 https://store.boingboing.net\n",
      "5 javascript:void(0)\n",
      "6 http://boingboing.net/blog\n",
      "7 http://bbs.boingboing.net\n",
      "8 https://bbs.boingboing.net/faq\n",
      "9 http://store.boingboing.net\n",
      "10 mailto:pubsupport@stackcommerce.com\n",
      "11 http://boingboing.net/about\n",
      "12 http://boingboing.net/contact\n",
      "13 http://boingboing.net/advertise\n",
      "14 http://boingboing.net/privacy\n",
      "15 http://boingboing.net/tos\n",
      "16 https://boingboing.net/2018/01/25/animation-summarizes-all-of.html\n",
      "17 https://boingboing.net/tag/Say-my-name\n",
      "18 https://boingboing.net/2018/01/25/animation-summarizes-all-of.html\n",
      "19 https://boingboing.net/author/blazenhoff_1\n",
      "20 https://boingboing.net/2018/01/26/what-scam-artists-can-teach-us.html\n",
      "21 https://boingboing.net/tag/genetic-fallacy\n",
      "22 https://boingboing.net/2018/01/26/what-scam-artists-can-teach-us.html\n",
      "23 https://boingboing.net/author/mark_frauenfelder_1\n",
      "24 https://boingboing.net/2018/01/25/this-bizarre-anti-masturbation.html\n",
      "25 https://boingboing.net/tag/jehovah's-witnesses\n",
      "26 https://boingboing.net/2018/01/25/this-bizarre-anti-masturbation.html\n",
      "27 https://boingboing.net/author/carlasinclair\n",
      "28 #\n",
      "29 http://twitter.com/boingboing\n",
      "30 https://www.facebook.com/boingboing\n",
      "31 http://boingboing.net/feed\n",
      "32 https://boingboing.net/2018/01/27/tide-pods-are-just-the-beginni.html\n",
      "33 https://boingboing.net/tag/treats\n",
      "34 https://boingboing.net/2018/01/27/tide-pods-are-just-the-beginni.html\n",
      "35 https://boingboing.net/author/rob_beschizza\n",
      "36 https://store.boingboing.net\n",
      "37 https://boingboing.net/2018/01/28/crossover-runs-your-windows-ap.html\n",
      "38 https://boingboing.net/2018/01/28/crossover-runs-your-windows-ap.html\n",
      "39 https://boingboing.net/2018/01/27/free-for-all.html\n",
      "40 https://boingboing.net/tag/austerity-ecology\n",
      "41 https://boingboing.net/2018/01/27/free-for-all.html\n",
      "42 https://boingboing.net/author/cory_doctorow_1\n",
      "43 https://boingboing.net/2018/01/27/huggies-kleenex.html\n",
      "44 https://boingboing.net/tag/american-carnage\n",
      "45 https://boingboing.net/2018/01/27/huggies-kleenex.html\n",
      "46 https://boingboing.net/author/cory_doctorow_1\n",
      "47 https://boingboing.net/2018/01/27/solidarity-forever.html\n",
      "48 https://boingboing.net/tag/political-economy\n",
      "49 https://boingboing.net/2018/01/27/solidarity-forever.html\n",
      "50 https://boingboing.net/author/cory_doctorow_1\n",
      "51 https://boingboing.net/2018/01/27/shakedown-rackets.html\n",
      "52 https://boingboing.net/tag/ludlow-music-and-the-richmond-organization\n",
      "53 https://boingboing.net/2018/01/27/shakedown-rackets.html\n",
      "54 https://boingboing.net/author/cory_doctorow_1\n",
      "55 https://boingboing.net/2018/01/27/a-shirt-that-depicts-sasquatch.html\n",
      "56 https://boingboing.net/tag/Apex-Predator\n",
      "57 https://boingboing.net/2018/01/27/a-shirt-that-depicts-sasquatch.html\n",
      "58 https://boingboing.net/author/blazenhoff_1\n",
      "59 https://boingboing.net/2018/01/27/sean-hannity-briefly-vanishes.html\n",
      "60 https://boingboing.net/tag/drool\n",
      "61 https://boingboing.net/2018/01/27/sean-hannity-briefly-vanishes.html\n",
      "62 https://boingboing.net/author/rob_beschizza\n",
      "63 https://boingboing.net/2018/01/27/the-wheel-of-feelings.html\n",
      "64 https://boingboing.net/tag/diagrams\n",
      "65 https://boingboing.net/2018/01/27/the-wheel-of-feelings.html\n",
      "66 https://boingboing.net/author/rob_beschizza\n",
      "67 https://boingboing.net/2018/01/27/a-stealthy-trojan-horse-for-fi.html\n",
      "68 https://boingboing.net/tag/fitness-gadgets\n",
      "69 https://boingboing.net/2018/01/27/a-stealthy-trojan-horse-for-fi.html\n",
      "70 https://boingboing.net/author/michaelborys\n",
      "71 https://boingboing.net/2018/01/27/these-wireless-earbuds-are-ext.html\n",
      "72 https://boingboing.net/tag/gadgets\n",
      "73 https://boingboing.net/2018/01/27/these-wireless-earbuds-are-ext.html\n",
      "74 https://boingboing.net/author/boingboingstore\n",
      "75 https://boingboing.net/2018/01/26/occult-manuscripts-to-be-digit.html\n",
      "76 https://boingboing.net/tag/occult\n",
      "77 https://boingboing.net/2018/01/26/occult-manuscripts-to-be-digit.html\n",
      "78 https://boingboing.net/author/rob_beschizza\n",
      "79 https://boingboing.net/2018/01/26/twitter-responses-to-bill-or.html\n",
      "80 https://boingboing.net/tag/still-mad-at-god\n",
      "81 https://boingboing.net/2018/01/26/twitter-responses-to-bill-or.html\n",
      "82 https://boingboing.net/author/mark_frauenfelder_1\n",
      "83 https://boingboing.net/2018/01/26/fumbling-bumblers.html\n",
      "84 https://boingboing.net/tag/brick-brick-again\n",
      "85 https://boingboing.net/2018/01/26/fumbling-bumblers.html\n",
      "86 https://boingboing.net/author/cory_doctorow_1\n",
      "87 https://boingboing.net/2018/01/26/public-ledgers-are-public.html\n",
      "88 https://boingboing.net/tag/i-hope-you-know-this-will-go-down-on-your-permanent-record\n",
      "89 https://boingboing.net/2018/01/26/public-ledgers-are-public.html\n",
      "90 https://boingboing.net/author/cory_doctorow_1\n",
      "91 https://boingboing.net/2018/01/26/oxo-has-a-self-cleaning-fur-an.html\n",
      "92 https://boingboing.net/tag/useful-things\n",
      "93 https://boingboing.net/2018/01/26/oxo-has-a-self-cleaning-fur-an.html\n",
      "94 https://boingboing.net/author/mark_frauenfelder_1\n",
      "95 https://boingboing.net/2018/01/26/grace-notes.html\n",
      "96 https://boingboing.net/tag/ar-ar-economist-humor\n",
      "97 https://boingboing.net/2018/01/26/grace-notes.html\n",
      "98 https://boingboing.net/author/cory_doctorow_1\n",
      "99 https://boingboing.net/2018/01/26/lloyd-khan-on-deep-old-age.html\n",
      "100 https://boingboing.net/tag/aging\n",
      "101 https://boingboing.net/2018/01/26/lloyd-khan-on-deep-old-age.html\n",
      "102 https://boingboing.net/author/mark_frauenfelder_1\n",
      "103 https://boingboing.net/2018/01/26/revenge-of-the-ustr.html\n",
      "104 https://boingboing.net/tag/cptpp\n",
      "105 https://boingboing.net/2018/01/26/revenge-of-the-ustr.html\n",
      "106 https://boingboing.net/author/cory_doctorow_1\n",
      "107 https://boingboing.net/2018/01/26/elite-focus.html\n",
      "108 https://boingboing.net/tag/boring-machines\n",
      "109 https://boingboing.net/2018/01/26/elite-focus.html\n",
      "110 https://boingboing.net/author/cory_doctorow_1\n",
      "111 https://boingboing.net/2018/01/26/trump-gets-booed-at-davos-for.html\n",
      "112 https://boingboing.net/tag/shithole-presidency\n",
      "113 https://boingboing.net/2018/01/26/trump-gets-booed-at-davos-for.html\n",
      "114 https://boingboing.net/author/mark_frauenfelder_1\n",
      "115 https://boingboing.net/2018/01/26/united-airlines-removed-woman.html\n",
      "116 https://boingboing.net/tag/united-airlines\n",
      "117 https://boingboing.net/2018/01/26/united-airlines-removed-woman.html\n",
      "118 https://boingboing.net/author/rob_beschizza\n",
      "119 https://boingboing.net/2018/01/26/aivd.html\n",
      "120 https://boingboing.net/tag/cozy-bear\n",
      "121 https://boingboing.net/2018/01/26/aivd.html\n",
      "122 https://boingboing.net/author/cory_doctorow_1\n",
      "123 https://boingboing.net/2018/01/26/elders-check-out-vrchat-for-th.html\n",
      "124 https://boingboing.net/tag/vrchat\n",
      "125 https://boingboing.net/2018/01/26/elders-check-out-vrchat-for-th.html\n",
      "126 https://boingboing.net/author/blazenhoff_1\n",
      "127 https://boingboing.net/2018/01/26/watch-davos-woman-have-fun-jum.html\n",
      "128 https://boingboing.net/tag/winter-activities\n",
      "129 https://boingboing.net/2018/01/26/watch-davos-woman-have-fun-jum.html\n",
      "130 https://boingboing.net/author/carlasinclair\n",
      "131 https://boingboing.net/2018/01/26/this-ketchup-and-mustard-cake.html\n",
      "132 https://boingboing.net/tag/mustard\n",
      "133 https://boingboing.net/2018/01/26/this-ketchup-and-mustard-cake.html\n",
      "134 https://boingboing.net/author/blazenhoff_1\n",
      "135 https://boingboing.net/grid/page/2/\n",
      "136 http://boingboing.net/tos\n",
      "137 http://bbs.boingboing.net/faq\n",
      "138 http://creativecommons.org/licenses/by-nc-sa/3.0/deed.en_US\n",
      "139 http://twitter.com/frauenfelder\n",
      "140 http://twitter.com/doctorow\n",
      "141 http://twitter.com/pesco\n",
      "142 http://twitter.com/xeni\n",
      "143 http://twitter.com/beschizza\n",
      "144 http://twitter.com/jlw\n",
      "145 http://twitter.com/orenwolf\n",
      "146 https://boingboing.net/about\n",
      "147 https://boingboing.net/contact\n",
      "148 https://boingboing.net/advertise\n",
      "149 http://bbs.boingboing.net\n",
      "150 http://store.boingboing.net\n",
      "151 mailto:pubsupport@stackcommerce.com\n",
      "\n"
     ]
    }
   ],
   "source": [
    "# BeautifulSoupによるHTMLの解析\n",
    "def get_links(url):\n",
    "    import requests\n",
    "    from bs4 import BeautifulSoup as soup\n",
    "    result = requests.get(url)\n",
    "    page = result.text\n",
    "    doc = soup(page, 'html.parser')\n",
    "    links = [element.get('href') for element in doc.find_all('a')]\n",
    "    return links\n",
    "\n",
    "url = 'http://boingboing.net/'\n",
    "print('Links in', url)\n",
    "for num, link in enumerate(get_links(url), start=1):\n",
    "    print(num, link)\n",
    "print()"
   ]
  },
  {
   "cell_type": "code",
   "execution_count": null,
   "metadata": {
    "collapsed": true
   },
   "outputs": [],
   "source": []
  }
 ],
 "metadata": {
  "kernelspec": {
   "display_name": "Python 3",
   "language": "python",
   "name": "python3"
  },
  "language_info": {
   "codemirror_mode": {
    "name": "ipython",
    "version": 3
   },
   "file_extension": ".py",
   "mimetype": "text/x-python",
   "name": "python",
   "nbconvert_exporter": "python",
   "pygments_lexer": "ipython3",
   "version": "3.6.4"
  }
 },
 "nbformat": 4,
 "nbformat_minor": 2
}
